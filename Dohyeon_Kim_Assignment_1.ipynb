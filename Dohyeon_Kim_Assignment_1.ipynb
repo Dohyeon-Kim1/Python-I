{
  "nbformat": 4,
  "nbformat_minor": 0,
  "metadata": {
    "colab": {
      "name": "Dohyeon Kim_Assignment_1.ipynb",
      "provenance": [],
      "authorship_tag": "ABX9TyNK00o5yYAiy6pObsE/fLGc",
      "include_colab_link": true
    },
    "kernelspec": {
      "name": "python3",
      "display_name": "Python 3"
    }
  },
  "cells": [
    {
      "cell_type": "markdown",
      "metadata": {
        "id": "view-in-github",
        "colab_type": "text"
      },
      "source": [
        "<a href=\"https://colab.research.google.com/github/Dohyeon-Kim1/Python-I/blob/master/Dohyeon_Kim_Assignment_1.ipynb\" target=\"_parent\"><img src=\"https://colab.research.google.com/assets/colab-badge.svg\" alt=\"Open In Colab\"/></a>"
      ]
    },
    {
      "cell_type": "code",
      "metadata": {
        "id": "jsjfUjTS5l8Y",
        "colab_type": "code",
        "colab": {
          "base_uri": "https://localhost:8080/",
          "height": 34
        },
        "outputId": "892d2b6b-5435-4ea9-ec09-74cf0c8a96d1"
      },
      "source": [
        "# Pop Quiz 1\n",
        "print(\"Hello Python World!\")"
      ],
      "execution_count": 2,
      "outputs": [
        {
          "output_type": "stream",
          "text": [
            "Hello Python World!\n"
          ],
          "name": "stdout"
        }
      ]
    },
    {
      "cell_type": "code",
      "metadata": {
        "id": "CqvAsAHP5rvD",
        "colab_type": "code",
        "colab": {
          "base_uri": "https://localhost:8080/",
          "height": 52
        },
        "outputId": "d49209bb-a9f9-4659-a4e8-5ca6fe66987d"
      },
      "source": [
        "# Pop Quiz 2\n",
        "print(type(6/2))\n",
        "print(type(6//2))"
      ],
      "execution_count": 6,
      "outputs": [
        {
          "output_type": "stream",
          "text": [
            "<class 'float'>\n",
            "<class 'int'>\n"
          ],
          "name": "stdout"
        }
      ]
    },
    {
      "cell_type": "code",
      "metadata": {
        "id": "00laastm6nd3",
        "colab_type": "code",
        "colab": {
          "base_uri": "https://localhost:8080/",
          "height": 34
        },
        "outputId": "ed83ef2a-3183-41f2-9c6a-79efbc20f3da"
      },
      "source": [
        "# Pop Quiz 3\n",
        "Total_Min = 1300\n",
        "Total_Hour = Total_Min / 60\n",
        "\n",
        "Total_Time_Representing = \"Hour:\" + str(int(Total_Hour)) + \" Min:\" + str(int(Total_Min%60))\n",
        "print(Total_Time_Representing) "
      ],
      "execution_count": 14,
      "outputs": [
        {
          "output_type": "stream",
          "text": [
            "Hour:21 Min:40\n"
          ],
          "name": "stdout"
        }
      ]
    },
    {
      "cell_type": "code",
      "metadata": {
        "id": "QzNWHxnI8wk9",
        "colab_type": "code",
        "colab": {}
      },
      "source": [
        ""
      ],
      "execution_count": 0,
      "outputs": []
    }
  ]
}
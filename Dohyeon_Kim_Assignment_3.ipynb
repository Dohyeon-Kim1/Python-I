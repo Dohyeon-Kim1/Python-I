{
  "nbformat": 4,
  "nbformat_minor": 0,
  "metadata": {
    "colab": {
      "name": "Dohyeon Kim_Assignment_3.ipynb",
      "provenance": [],
      "collapsed_sections": [],
      "authorship_tag": "ABX9TyNzztpWggxNC/W4pHlju+LI",
      "include_colab_link": true
    },
    "kernelspec": {
      "name": "python3",
      "display_name": "Python 3"
    }
  },
  "cells": [
    {
      "cell_type": "markdown",
      "metadata": {
        "id": "view-in-github",
        "colab_type": "text"
      },
      "source": [
        "<a href=\"https://colab.research.google.com/github/Dohyeon-Kim1/Python-I/blob/master/Dohyeon_Kim_Assignment_3.ipynb\" target=\"_parent\"><img src=\"https://colab.research.google.com/assets/colab-badge.svg\" alt=\"Open In Colab\"/></a>"
      ]
    },
    {
      "cell_type": "code",
      "metadata": {
        "id": "miRrtWewVVvf",
        "colab_type": "code",
        "colab": {}
      },
      "source": [
        "# 1\n",
        "\n",
        "a_list = [1,'hello',[1,2,3],True]"
      ],
      "execution_count": 0,
      "outputs": []
    },
    {
      "cell_type": "code",
      "metadata": {
        "id": "U1Qp1xCaVhUS",
        "colab_type": "code",
        "outputId": "a46cd36b-1c18-46cc-b4f8-525cf363303a",
        "colab": {
          "base_uri": "https://localhost:8080/",
          "height": 34
        }
      },
      "source": [
        "print(a_list[1])"
      ],
      "execution_count": 53,
      "outputs": [
        {
          "output_type": "stream",
          "text": [
            "hello\n"
          ],
          "name": "stdout"
        }
      ]
    },
    {
      "cell_type": "code",
      "metadata": {
        "id": "gUeoAW3fVnPl",
        "colab_type": "code",
        "outputId": "1ca12f35-20b4-4fda-9a59-1b3b13343baf",
        "colab": {
          "base_uri": "https://localhost:8080/",
          "height": 87
        }
      },
      "source": [
        "print(a_list[1])\n",
        "print(a_list[2])\n",
        "print(a_list[3])\n",
        "print(a_list[1:4])"
      ],
      "execution_count": 54,
      "outputs": [
        {
          "output_type": "stream",
          "text": [
            "hello\n",
            "[1, 2, 3]\n",
            "True\n",
            "['hello', [1, 2, 3], True]\n"
          ],
          "name": "stdout"
        }
      ]
    },
    {
      "cell_type": "code",
      "metadata": {
        "id": "E3H00UrsVvPT",
        "colab_type": "code",
        "colab": {}
      },
      "source": [
        "A = [1,'a']\n",
        "B = [2,1,'d']"
      ],
      "execution_count": 0,
      "outputs": []
    },
    {
      "cell_type": "code",
      "metadata": {
        "id": "PgeO1OhzYSpo",
        "colab_type": "code",
        "colab": {}
      },
      "source": [
        "A.extend(B)"
      ],
      "execution_count": 0,
      "outputs": []
    },
    {
      "cell_type": "code",
      "metadata": {
        "id": "sZt6Gd_dYUoI",
        "colab_type": "code",
        "outputId": "7c59e16b-6dbc-480f-97f3-0cd59f490673",
        "colab": {
          "base_uri": "https://localhost:8080/",
          "height": 34
        }
      },
      "source": [
        "print(A)"
      ],
      "execution_count": 57,
      "outputs": [
        {
          "output_type": "stream",
          "text": [
            "[1, 'a', 2, 1, 'd']\n"
          ],
          "name": "stdout"
        }
      ]
    },
    {
      "cell_type": "code",
      "metadata": {
        "id": "I5Z45nZlYio5",
        "colab_type": "code",
        "colab": {}
      },
      "source": [
        "# 2\n",
        "\n",
        "soundtrack_dict = {'The Bodyguard':'1992','Saturday Night Fever':'1977'}"
      ],
      "execution_count": 0,
      "outputs": []
    },
    {
      "cell_type": "code",
      "metadata": {
        "id": "gPkDt2FGla7m",
        "colab_type": "code",
        "outputId": "4d1469c2-168d-48ac-89b1-9ac3e0c00f4d",
        "colab": {
          "base_uri": "https://localhost:8080/",
          "height": 34
        }
      },
      "source": [
        "print(soundtrack_dict.keys())"
      ],
      "execution_count": 59,
      "outputs": [
        {
          "output_type": "stream",
          "text": [
            "dict_keys(['The Bodyguard', 'Saturday Night Fever'])\n"
          ],
          "name": "stdout"
        }
      ]
    },
    {
      "cell_type": "code",
      "metadata": {
        "id": "zaiOi6lylhh7",
        "colab_type": "code",
        "outputId": "4f715239-6860-41a0-c0e8-b6a5adf83776",
        "colab": {
          "base_uri": "https://localhost:8080/",
          "height": 34
        }
      },
      "source": [
        "print(soundtrack_dict.values())"
      ],
      "execution_count": 60,
      "outputs": [
        {
          "output_type": "stream",
          "text": [
            "dict_values(['1992', '1977'])\n"
          ],
          "name": "stdout"
        }
      ]
    },
    {
      "cell_type": "code",
      "metadata": {
        "id": "HqnEQfQtlr6u",
        "colab_type": "code",
        "outputId": "c19e5dda-9b01-41a1-da80-525589d37d86",
        "colab": {
          "base_uri": "https://localhost:8080/",
          "height": 34
        }
      },
      "source": [
        "# 3\n",
        "\n",
        "print(set(['rap','house','eletronic music','rap']))"
      ],
      "execution_count": 61,
      "outputs": [
        {
          "output_type": "stream",
          "text": [
            "{'eletronic music', 'house', 'rap'}\n"
          ],
          "name": "stdout"
        }
      ]
    },
    {
      "cell_type": "code",
      "metadata": {
        "id": "H_2gh7TGrMme",
        "colab_type": "code",
        "outputId": "98d89fc5-c59b-449e-ffb3-4ff90e1b91df",
        "colab": {
          "base_uri": "https://localhost:8080/",
          "height": 70
        }
      },
      "source": [
        "A = [1,2,2,1]\n",
        "B = set([1,2,2,1])\n",
        "print(sum(A))\n",
        "print(sum(B))\n",
        "print(sum(A)==sum(B))"
      ],
      "execution_count": 62,
      "outputs": [
        {
          "output_type": "stream",
          "text": [
            "6\n",
            "3\n",
            "False\n"
          ],
          "name": "stdout"
        }
      ]
    },
    {
      "cell_type": "code",
      "metadata": {
        "id": "extND4FgrncX",
        "colab_type": "code",
        "outputId": "e0b5a0bb-abf4-48ba-d274-3930ae4a6f26",
        "colab": {
          "base_uri": "https://localhost:8080/",
          "height": 34
        }
      },
      "source": [
        "album_set1 = set(['Thriller','AC/DC','Back in Black'])\n",
        "album_set2 = set(['AC/DC','Back in Black','The Dark Side of the Moon'])\n",
        "album_set3 = album_set1.union(album_set2)\n",
        "print(album_set3)"
      ],
      "execution_count": 63,
      "outputs": [
        {
          "output_type": "stream",
          "text": [
            "{'The Dark Side of the Moon', 'Back in Black', 'Thriller', 'AC/DC'}\n"
          ],
          "name": "stdout"
        }
      ]
    },
    {
      "cell_type": "code",
      "metadata": {
        "id": "Y2filY3Osi1Z",
        "colab_type": "code",
        "outputId": "5f258ee5-54a0-49ca-ebda-5651594d835b",
        "colab": {
          "base_uri": "https://localhost:8080/",
          "height": 34
        }
      },
      "source": [
        "print(album_set1.issubset(album_set3))"
      ],
      "execution_count": 64,
      "outputs": [
        {
          "output_type": "stream",
          "text": [
            "True\n"
          ],
          "name": "stdout"
        }
      ]
    },
    {
      "cell_type": "code",
      "metadata": {
        "id": "j0LW3b9Ysw7B",
        "colab_type": "code",
        "colab": {}
      },
      "source": [
        "# 4-1\n",
        "\n",
        "Dict = {'Artist':'Michael','Genre':'R&B','Sales':10000}"
      ],
      "execution_count": 0,
      "outputs": []
    },
    {
      "cell_type": "code",
      "metadata": {
        "id": "0mMRrxFIUOBK",
        "colab_type": "code",
        "colab": {
          "base_uri": "https://localhost:8080/",
          "height": 34
        },
        "outputId": "99c2377f-e6f1-466b-a669-762cf6a69133"
      },
      "source": [
        "if(Dict['Artist']=='Michael'):\n",
        "  print(Dict['Genre'])\n",
        "else:\n",
        "  print('None')"
      ],
      "execution_count": 66,
      "outputs": [
        {
          "output_type": "stream",
          "text": [
            "R&B\n"
          ],
          "name": "stdout"
        }
      ]
    },
    {
      "cell_type": "code",
      "metadata": {
        "id": "6oNYH_T-Vadh",
        "colab_type": "code",
        "colab": {
          "base_uri": "https://localhost:8080/",
          "height": 34
        },
        "outputId": "c0cc4094-315e-40c9-cdee-62aede4d6c37"
      },
      "source": [
        "# 4-2\n",
        "\n",
        "cencius = 0\n",
        "\n",
        "if(cencius>=-293):\n",
        "  print(cencius*1.8+32)\n",
        "else:\n",
        "  print('It is an impossible value')"
      ],
      "execution_count": 67,
      "outputs": [
        {
          "output_type": "stream",
          "text": [
            "32.0\n"
          ],
          "name": "stdout"
        }
      ]
    },
    {
      "cell_type": "code",
      "metadata": {
        "id": "XwEKFXYGZq8Y",
        "colab_type": "code",
        "colab": {
          "base_uri": "https://localhost:8080/",
          "height": 34
        },
        "outputId": "f8f1892c-4d9d-4cb4-ddba-3632a189ef95"
      },
      "source": [
        "cencius = -300\n",
        "\n",
        "if(cencius>=-293):\n",
        "  print(cencius*1.8+32)\n",
        "else:\n",
        "  print('It is an impossible vlaue')"
      ],
      "execution_count": 68,
      "outputs": [
        {
          "output_type": "stream",
          "text": [
            "It is an impossible vlaue\n"
          ],
          "name": "stdout"
        }
      ]
    },
    {
      "cell_type": "code",
      "metadata": {
        "id": "R4DlLuY_qaQg",
        "colab_type": "code",
        "colab": {
          "base_uri": "https://localhost:8080/",
          "height": 87
        },
        "outputId": "2dd55a3b-791d-496f-fc91-a370f53d0e6c"
      },
      "source": [
        "List_number = [1,2,3,5,9,31,28,91]\n",
        "List_even = list()\n",
        "List_odd = list()\n",
        "\n",
        "for k in List_number:\n",
        "  \n",
        "  if(int(k/2)==k/2):\n",
        "    List_even.append(k)\n",
        "  else:\n",
        "    List_odd.append(k)\n",
        "\n",
        "print(List_even)\n",
        "print(List_odd)\n",
        "\n",
        "print('even number:',len(List_even))\n",
        "print('odd number:',len(List_odd))"
      ],
      "execution_count": 69,
      "outputs": [
        {
          "output_type": "stream",
          "text": [
            "[2, 28]\n",
            "[1, 3, 5, 9, 31, 91]\n",
            "even number: 2\n",
            "odd number: 6\n"
          ],
          "name": "stdout"
        }
      ]
    },
    {
      "cell_type": "code",
      "metadata": {
        "id": "Qzo9Um09qg5u",
        "colab_type": "code",
        "colab": {
          "base_uri": "https://localhost:8080/",
          "height": 34
        },
        "outputId": "af8a71d5-def7-4b1b-95cc-4617e4c6ab7e"
      },
      "source": [
        "List_NPN = list()\n",
        "List_PN = list()\n",
        "\n",
        "i = 191\n",
        "\n",
        "for h in range(2,i):\n",
        "  \n",
        "  if(i%h==0):\n",
        "    List_NPN.append(h)\n",
        "  else:\n",
        "    List_PN.append(h)\n",
        "\n",
        "if(len(List_NPN)==0):\n",
        "  print('It is a prime number')\n",
        "else:\n",
        "  print('It is not a prime number')"
      ],
      "execution_count": 70,
      "outputs": [
        {
          "output_type": "stream",
          "text": [
            "It is a prime number\n"
          ],
          "name": "stdout"
        }
      ]
    },
    {
      "cell_type": "code",
      "metadata": {
        "id": "MxJHnChmumVY",
        "colab_type": "code",
        "colab": {
          "base_uri": "https://localhost:8080/",
          "height": 34
        },
        "outputId": "46c008e9-3ae6-47dc-a2d6-55bbfedffb86"
      },
      "source": [
        "List_NPN = list()\n",
        "List_PN = list()\n",
        "\n",
        "i = 252\n",
        "\n",
        "for h in range(2,i):\n",
        "  \n",
        "  if(i%h==0):\n",
        "    List_NPN.append(h)\n",
        "  else:\n",
        "    List_PN.append(h)\n",
        "\n",
        "if(len(List_NPN)==0):\n",
        "  print('It is a prime number')\n",
        "else:\n",
        "  print('It is not a prime number')"
      ],
      "execution_count": 71,
      "outputs": [
        {
          "output_type": "stream",
          "text": [
            "It is not a prime number\n"
          ],
          "name": "stdout"
        }
      ]
    },
    {
      "cell_type": "code",
      "metadata": {
        "id": "b7aZteYDuot6",
        "colab_type": "code",
        "colab": {}
      },
      "source": [
        ""
      ],
      "execution_count": 0,
      "outputs": []
    }
  ]
}
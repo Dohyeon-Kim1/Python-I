{
  "nbformat": 4,
  "nbformat_minor": 0,
  "metadata": {
    "colab": {
      "name": "DohyeonKim-2020054393.ipynb",
      "provenance": [],
      "collapsed_sections": [],
      "include_colab_link": true
    },
    "kernelspec": {
      "name": "python3",
      "display_name": "Python 3"
    }
  },
  "cells": [
    {
      "cell_type": "markdown",
      "metadata": {
        "id": "view-in-github",
        "colab_type": "text"
      },
      "source": [
        "<a href=\"https://colab.research.google.com/github/Dohyeon-Kim1/Python-I/blob/master/DohyeonKim_2020054393.ipynb\" target=\"_parent\"><img src=\"https://colab.research.google.com/assets/colab-badge.svg\" alt=\"Open In Colab\"/></a>"
      ]
    },
    {
      "cell_type": "markdown",
      "metadata": {
        "id": "6wQqQJ3GbBLo",
        "colab_type": "text"
      },
      "source": [
        "#**This is for your Final Examination of both courses titled \"AI Basics\" and \" Python I\"**#\n",
        "\n",
        "All the results (incuding the codes, your written answers, and running outcomes) should be held in the same notebook. \n",
        "\n",
        "The Name of the notebook should be your name followed by your student ID (e.g., HokyoungBlakeRyu2020890653.ipynb)\n",
        "\n",
        "##*You should submit the notebook file in your GitHub, by the due date (no later than 23rd May, 12:00pm).*##\n",
        "\n",
        "**Evaluation points:** \n",
        "\n",
        "\n",
        "1.   Quality - How much your codes are working in general circumstances (Don't do any single hot coding) \n",
        "2.   Quality - Least use the built-in functions, wherever necessary (if you want to some built-in functions (e.g., inverse function of matrix), you need to make the two versions to compare them). You will use the build-in functions in your life time, so this examination is a last change to improve your programming skills.   \n",
        "3. Quality - The logic of programming would be significantly evaluated. Don't forget computational thinking. Your thinking process and that of computers are different.  \n",
        "4. The number of coding lines are nothing important, netiher whether you  find the correct answer or not. The main point of this examination, how much you think to solve the questions at your own efforts (I can see it when I have read your codes), so simply C&P from the internet sources would automatically fail to mark (However, you can refer to the internet sources but you need to fully absorb them in your understanding before you submit). \n",
        "\n"
      ]
    },
    {
      "cell_type": "markdown",
      "metadata": {
        "id": "NsXGV32B6yHX",
        "colab_type": "text"
      },
      "source": [
        "\n",
        "\n",
        "---\n",
        "\n"
      ]
    },
    {
      "cell_type": "markdown",
      "metadata": {
        "id": "UydSbgHwcBts",
        "colab_type": "text"
      },
      "source": [
        "Functions are often visualized as a line or (curvature) on a graph, and this line shows how the value returned by the function changes based on changes in the input value. For example, imagine a function that returns the number of meters travelled by a cyclist based on the number of seconds that the cyclist has been cycling.\n",
        "\n",
        "Here is such a function: \n",
        "\n",
        "\\begin{equation}q(x) = 2x^{2} + 1\\end{equation} \n",
        "\n",
        "\n",
        "#1. Plot the output for this function *q(x)* for a period of 10 seconds from range (0 sec to 10 secs)# "
      ]
    },
    {
      "cell_type": "markdown",
      "metadata": {
        "id": "mbAaNszqrWa4",
        "colab_type": "text"
      },
      "source": [
        "\n",
        "\n",
        "---\n",
        "\n"
      ]
    },
    {
      "cell_type": "code",
      "metadata": {
        "id": "k_cKAtE8dvO_",
        "colab_type": "code",
        "outputId": "486a0a05-45a9-4b4c-e512-d3b1781580ac",
        "colab": {
          "base_uri": "https://localhost:8080/",
          "height": 279
        }
      },
      "source": [
        "#Your Python code should appear here, followed by the plot\n",
        "\n",
        "%matplotlib inline\n",
        "from matplotlib import pyplot as plt\n",
        "\n",
        "def q(x):\n",
        "  return 2*x**2 + 1\n",
        "\n",
        "x1 = list(range(0,11))\n",
        "y1 = [q(i) for i in x1]\n",
        "\n",
        "plt.xlabel('time(sec)')\n",
        "plt.ylabel('distance(m)')\n",
        "plt.grid()\n",
        "plt.plot(x1,y1, color='red')\n",
        "plt.show()"
      ],
      "execution_count": 208,
      "outputs": [
        {
          "output_type": "display_data",
          "data": {
            "image/png": "[encoded data removed]",
            "text/plain": [
              "<Figure size 432x288 with 1 Axes>"
            ]
          },
          "metadata": {
            "tags": [],
            "needs_background": "light"
          }
        }
      ]
    },
    {
      "cell_type": "markdown",
      "metadata": {
        "id": "O6HeizdLej-N",
        "colab_type": "text"
      },
      "source": [
        "\n",
        "\n",
        "---\n",
        "\n"
      ]
    },
    {
      "cell_type": "markdown",
      "metadata": {
        "id": "ZsDAys8Jd02o",
        "colab_type": "text"
      },
      "source": [
        "Velocity is a measure of change - it measures how the distance travelled changes over time. So we're looking for a way to measure the change in the line created by the function. \n",
        "\n",
        "#2. Calculate the velocity (2-1) between 1 sec to 2 secs, and (2-2) 5 secs and 7 secs. "
      ]
    },
    {
      "cell_type": "markdown",
      "metadata": {
        "id": "QasyFe1ErZI8",
        "colab_type": "text"
      },
      "source": [
        "\n",
        "\n",
        "---\n",
        "\n"
      ]
    },
    {
      "cell_type": "code",
      "metadata": {
        "id": "p4pHDwLIehZL",
        "colab_type": "code",
        "outputId": "9a921a1f-cc96-4725-a031-41e80eac2cef",
        "colab": {
          "base_uri": "https://localhost:8080/",
          "height": 36
        }
      },
      "source": [
        "#Your code of (2-1) should appear here, followed by the answer \n",
        "\n",
        "velocity1 = (q(2)-q(1)) / (2 - 1) \n",
        "print(\"The velocity between 1sec to 2secs :\",velocity1,\"m/s\")"
      ],
      "execution_count": 209,
      "outputs": [
        {
          "output_type": "stream",
          "text": [
            "The velocity between 1sec to 2secs : 6.0 m/s\n"
          ],
          "name": "stdout"
        }
      ]
    },
    {
      "cell_type": "markdown",
      "metadata": {
        "id": "nmQklhoKrcDa",
        "colab_type": "text"
      },
      "source": [
        "The velocity between 1sec to 2secs : 6.0 m/s\n",
        "\n"
      ]
    },
    {
      "cell_type": "code",
      "metadata": {
        "id": "xlnZFgBuerDD",
        "colab_type": "code",
        "outputId": "89914193-26bd-44ee-b16a-813de82058b5",
        "colab": {
          "base_uri": "https://localhost:8080/",
          "height": 55
        }
      },
      "source": [
        "#Your code of (2-2) should appear here, followed by the answer \n",
        "\n",
        "from sympy import *\n",
        "\n",
        "def q_prime(x):\n",
        "  return q(x).diff(x)\n",
        "\n",
        "q_prime_input = lambdify(x,q_prime(x))\n",
        "\n",
        "velocity2 = q_prime_input(5)\n",
        "velocity3 = q_prime_input(7)\n",
        "\n",
        "print(\"The velocity at 5secs :\",velocity2,\"m/s\") \n",
        "print(\"The velocity at 7secs :\",velocity3,\"m/s\")"
      ],
      "execution_count": 210,
      "outputs": [
        {
          "output_type": "stream",
          "text": [
            "The velocity at 5secs : 20 m/s\n",
            "The velocity at 7secs : 28 m/s\n"
          ],
          "name": "stdout"
        }
      ]
    },
    {
      "cell_type": "markdown",
      "metadata": {
        "id": "vtiHo6pZet7a",
        "colab_type": "text"
      },
      "source": [
        "The velocity at 5secs : 20 m/s , The velocity at 7secs : 28 m/s\n",
        "\n",
        "---\n",
        "\n"
      ]
    },
    {
      "cell_type": "markdown",
      "metadata": {
        "id": "AAdbeVTPdtyl",
        "colab_type": "text"
      },
      "source": [
        "In differentiation, we need to use our knowledge of limits to calculate the derivative of a function in order to determine the rate of change at an individual point on a line. Here is our function: \n",
        "\n",
        "\\begin{equation}q(x) = 2x^{2} + 1\\end{equation} \n"
      ]
    },
    {
      "cell_type": "code",
      "metadata": {
        "id": "nvRtRl9Lf4Cx",
        "colab_type": "code",
        "colab": {}
      },
      "source": [
        "#running the following code \n",
        "\n",
        "%matplotlib inline\n",
        "\n",
        "# Here's the function\n",
        "def f(x):\n",
        "    return 2*x**2 + 1 \n"
      ],
      "execution_count": 0,
      "outputs": []
    },
    {
      "cell_type": "markdown",
      "metadata": {
        "id": "SDspFCiPf_GK",
        "colab_type": "text"
      },
      "source": [
        "The average rate of change for the interval between x=4 and x=6 is **20**. "
      ]
    },
    {
      "cell_type": "markdown",
      "metadata": {
        "id": "6Dn9UXe_hyWX",
        "colab_type": "text"
      },
      "source": [
        "If the interval is decreasing the average rate of change would be also changed. \n",
        "\n",
        "#3. Write a Python program to calculate the average rate of change for the interval between x and x+h (where h gets smaller and smaller), with regard to how the average rate of change would be close to the derivative of q(x) "
      ]
    },
    {
      "cell_type": "markdown",
      "metadata": {
        "id": "LQ8CmJ0-rjOQ",
        "colab_type": "text"
      },
      "source": [
        "\n",
        "\n",
        "---\n",
        "\n"
      ]
    },
    {
      "cell_type": "code",
      "metadata": {
        "id": "nceK4FS1f9CP",
        "colab_type": "code",
        "outputId": "dc941818-b6bb-4866-8f6e-da96c7bf4c24",
        "colab": {
          "base_uri": "https://localhost:8080/",
          "height": 266
        }
      },
      "source": [
        "#Your code of Question #3 should appear here \n",
        "\n",
        "from sympy import *\n",
        "\n",
        "x = Symbol('x')\n",
        "h = 1.1\n",
        "\n",
        "Average_rate_of_change = (f(x+h)-f(x))/((x+h)-x)\n",
        "\n",
        "for i in range(10):\n",
        "  h = h - 0.1\n",
        "  Average_rate_of_change = (f(x+h)-f(x))/((x+h)-x)\n",
        "  print(simplify(Average_rate_of_change))\n",
        "\n",
        "print()\n",
        "print(\"The derivate of q(x) is\",f(x).diff(x),\"\\nThe smaller gets h, The closer to the derivate of q(x) the average rate of change for the interval between x and x+h gets.\")"
      ],
      "execution_count": 212,
      "outputs": [
        {
          "output_type": "stream",
          "text": [
            "4.0*x + 2.0\n",
            "4.0*x + 1.8\n",
            "4.0*x + 1.6\n",
            "4.0*x + 1.4\n",
            "4.0*x + 1.2\n",
            "4.0*x + 1.0\n",
            "4.0*x + 0.8\n",
            "4.0*x + 0.6\n",
            "4.0*x + 0.4\n",
            "4.0*x + 0.2\n",
            "\n",
            "The derivate of q(x) is 4*x \n",
            "The smaller gets h, The closer to the derivate of q(x) the average rate of change for the interval between x and x+h gets.\n"
          ],
          "name": "stdout"
        }
      ]
    },
    {
      "cell_type": "markdown",
      "metadata": {
        "id": "XZ7zDc2NiwYd",
        "colab_type": "text"
      },
      "source": [
        "The derivate of q(x) is 4*x\n",
        "\n",
        "The smaller gets h, The closer to the derivate of q(x) the average rate of change for the interval between x and x+h gets.\n",
        "\n"
      ]
    },
    {
      "cell_type": "markdown",
      "metadata": {
        "id": "lWkh3UVFiyE4",
        "colab_type": "text"
      },
      "source": [
        "The *chain rule* takes advantage of the fact that equations can be encapsulated as functions, and since functions contain equations, it's possible to nest one function within another.\n",
        "\n",
        "For example, consider the following function:\n",
        "\n",
        "\\begin{equation}u(x) = 2x^{2} \\end{equation}\n",
        "\n",
        "We could view the definition of *u(x)* as a composite of two functions,; an *inner* function that calculates x<sup>2</sup>, and an *outer* function that multiplies the result of the inner function by 2.\n",
        "\n",
        "\\begin{equation}u(x) = \\widehat{\\color{blue}2\\color{blue}(\\underline{\\color{red}x^{\\color{red}2}}\\color{blue})} \\end{equation}\n",
        "\n",
        "To make things simpler, we can name these inner and outer functions:\n",
        "\n",
        "\\begin{equation}i(x) = x^{2} \\end{equation}\n",
        "\n",
        "\\begin{equation}o(x) = 2x \\end{equation}\n",
        "\n",
        "Note that *x* indicates the input for each function. Function *i* takes its input and squares it, and function *o* takes its input and multiplies it by 2. When we use these as a composite function, the *x* value input into the outer function will be the output from the inner function.\n",
        "\n",
        "Let's take a look at how we can apply these functions to get back to our original *u* function:\n",
        "\n",
        "\\begin{equation}u(x) = o(i(x)) \\end{equation}\n",
        "\n",
        "So first we need to find the output of the inner *i* function so we can use at as the input value for the outer *o* function. Well, that's easy, we know the definition of *i* (square the input), so we can just plug it in:\n",
        "\n",
        "\\begin{equation}u(x) = o(x^{2}) \\end{equation}\n",
        "\n",
        "We also know the definition for the outer *o* function (multiply the input by 2), so we can just apply that to the input:\n",
        "\n",
        "\\begin{equation}u(x) = 2x^{2} \\end{equation}\n",
        "\n",
        "OK, so now we know how to form a composite function. The *chain rule* can be stated like this:\n",
        "\n",
        "\\begin{equation}\\frac{d}{dx}[o(i(x))] = o'(i(x)) \\cdot i'(x)\\end{equation}\n",
        "\n",
        "Alright, let's start by plugging the output of the inner *i(x)* function in:\n",
        "\n",
        "\\begin{equation}\\frac{d}{dx}[o(i(x))] = o'(x^{2}) \\cdot i'(x)\\end{equation}\n",
        "\n",
        "Which when we cancel out the 2x<sup>2</sup> and -2x<sup>2</sup>,is:\n",
        "\n",
        "\\begin{equation}o'(x) = \\lim_{h \\to 0} \\frac{2h}{h} \\end{equation}\n",
        "\n",
        "Which simplifies to:\n",
        "\n",
        "\\begin{equation}o'(x) = 2 \\end{equation}\n",
        "\\begin{equation}i'(x) = 2x \\end{equation}\n",
        "\n",
        "So our equation at this point is:\n",
        "\n",
        "\\begin{equation}\\frac{d}{dx}[o(i(x))] = 2 \\cdot 2x\\end{equation}\n",
        "\n",
        "In this case, we can take our equation:\n",
        "\n",
        "\\begin{equation}\\frac{d}{dx}[o(i(x))] = o'(i(x)) \\cdot i'(x)\\end{equation}\n",
        "\n",
        "and rewrite it as \n",
        "\n",
        "\\begin{equation}\\frac{du}{dx} = \\frac{do}{di}\\frac{di}{dx}\\end{equation}\n",
        "\n",
        "We can then complete the calculations like this:\n",
        "\n",
        "\\begin{equation}\\frac{du}{dx} = 2 \\cdot 2x = 4x\\end{equation}\n",
        "\n",
        "Execute the following code: "
      ]
    },
    {
      "cell_type": "code",
      "metadata": {
        "id": "r3MnqOC4mA23",
        "colab_type": "code",
        "colab": {}
      },
      "source": [
        "#running the following code \n",
        "\n",
        "%matplotlib inline\n",
        "\n",
        "# Here's the function\n",
        "def g(x):\n",
        "    return 2*x**(-2) - x "
      ],
      "execution_count": 0,
      "outputs": []
    },
    {
      "cell_type": "markdown",
      "metadata": {
        "id": "SDO_UJPij9dE",
        "colab_type": "text"
      },
      "source": [
        "#4. Write a Python program to \n",
        "\n",
        "\\begin{equation}\\frac{d}{dx}[f(g(x))] \\end{equation}, and \n",
        "\n",
        "\\begin{equation}\\frac{d}{dx}[g(f(x))] \\end{equation}, resepectively.  \n"
      ]
    },
    {
      "cell_type": "markdown",
      "metadata": {
        "id": "b6RR2w_bn2Pa",
        "colab_type": "text"
      },
      "source": [
        "\n",
        "\n",
        "---\n",
        "\n"
      ]
    },
    {
      "cell_type": "code",
      "metadata": {
        "id": "iBI6MI6OrOZc",
        "colab_type": "code",
        "outputId": "60d35ab4-8f8f-4c9d-b042-370947d3c709",
        "colab": {
          "base_uri": "https://localhost:8080/",
          "height": 55
        }
      },
      "source": [
        "#Your code of Question #4 should appear here \n",
        "\n",
        "def f_prime(x):\n",
        "  return f(x).diff(x)\n",
        "def g_prime(x):\n",
        "  return g(x).diff(x)\n",
        "\n",
        "f_prime_input = lambdify(x,f_prime(x))\n",
        "g_prime_input = lambdify(x,g_prime(x))\n",
        "\n",
        "print(\"f(g(x))_prime :\",simplify(f_prime_input(g(x))*g_prime(x)))\n",
        "print(\"g(f(x))_prime :\",simplify(g_prime_input(f(x))*f_prime(x)))"
      ],
      "execution_count": 214,
      "outputs": [
        {
          "output_type": "stream",
          "text": [
            "f(g(x))_prime : 4*x + 8/x**2 - 32/x**5\n",
            "g(f(x))_prime : -4*x - 16*x/(2*x**2 + 1)**3\n"
          ],
          "name": "stdout"
        }
      ]
    },
    {
      "cell_type": "markdown",
      "metadata": {
        "id": "bs6xv54g93h-",
        "colab_type": "text"
      },
      "source": [
        "In here you might add up your written accounts as to why the two results are different. "
      ]
    },
    {
      "cell_type": "markdown",
      "metadata": {
        "id": "RAadu-NN9_qN",
        "colab_type": "text"
      },
      "source": [
        "[Add your written accounts] \n",
        "\n",
        "This is because two functions, f(g(x)) and g(f(x)) are differend functions each other."
      ]
    },
    {
      "cell_type": "markdown",
      "metadata": {
        "id": "7ZBeidKvrR-1",
        "colab_type": "text"
      },
      "source": [
        "\n",
        "\n",
        "---\n",
        "\n"
      ]
    },
    {
      "cell_type": "markdown",
      "metadata": {
        "id": "_sHoK3S0ooTA",
        "colab_type": "text"
      },
      "source": [
        "Now consider the following function, which represents the number of flowers growing in a flower bed before and after the spraying of a fertilizer:\n",
        "\n",
        "\\begin{equation}w(x) = x^{2} + 2x + 7 \\end{equation}"
      ]
    },
    {
      "cell_type": "markdown",
      "metadata": {
        "id": "PvcJinmMpGGj",
        "colab_type": "text"
      },
      "source": [
        "Execute the following code "
      ]
    },
    {
      "cell_type": "code",
      "metadata": {
        "id": "Ortb5cx8pJwT",
        "colab_type": "code",
        "outputId": "7bfdc692-1dde-4256-d0ae-d0cb76ebac9d",
        "colab": {
          "base_uri": "https://localhost:8080/",
          "height": 279
        }
      },
      "source": [
        "%matplotlib inline\n",
        "\n",
        "# Create function w\n",
        "def w(x):\n",
        "    return (x**2) + (2*x) + 7\n",
        "\n",
        "def wd(x):\n",
        "    return 2*x + 2\n",
        "\n",
        "from matplotlib import pyplot as plt\n",
        "\n",
        "# Create an array of x values to plot\n",
        "x = list(range(-10, 11))\n",
        "\n",
        "# Use the function to get the y values\n",
        "y = [w(i) for i in x]\n",
        "\n",
        "# Use the derivative function to get the derivative values\n",
        "yd = [wd(i) for i in x]\n",
        "\n",
        "# Set up the graph\n",
        "plt.xlabel('x (time in days)')\n",
        "plt.ylabel('w(x) (flowers)')\n",
        "plt.xticks(range(-10,15, 1))\n",
        "plt.yticks(range(-200, 500, 20))\n",
        "plt.grid()\n",
        "\n",
        "# Plot the function\n",
        "plt.plot(x,y, color='green')\n",
        "\n",
        "# Plot the derivative\n",
        "plt.plot(x,yd, color='purple')\n",
        "\n",
        "plt.show()"
      ],
      "execution_count": 215,
      "outputs": [
        {
          "output_type": "display_data",
          "data": {
            "image/png": "[encoded data removed]",
            "text/plain": [
              "<Figure size 432x288 with 1 Axes>"
            ]
          },
          "metadata": {
            "tags": [],
            "needs_background": "light"
          }
        }
      ]
    },
    {
      "cell_type": "markdown",
      "metadata": {
        "id": "Z2s6SurnpNVZ",
        "colab_type": "text"
      },
      "source": [
        "The green line represents the function, showing the number of flowers for 10 days before and after the fertilizer treatment. Before treatment, the number of flowers was in decline, and after treatment the flower bed started to recover.\n",
        "\n",
        "The derivative function is shown in purple, and once again shows a linear change in slope. This time, the slope is increasing at a constant rate; and once again, the derivative function line crosses 0 at the lowest point in the function line (in other words, the slope changed from negative to positive when the flowers started to recover)."
      ]
    },
    {
      "cell_type": "markdown",
      "metadata": {
        "id": "P6ZaqSwYpVgK",
        "colab_type": "text"
      },
      "source": [
        "From what we've solved so far, it seems that there is a relationship between a function reaching an extreme value (a maximum or a minimum), and a derivative value of 0. This makes intuitive sense; the derivative represents the slope of the line, so when a function changes from a negative slope to a positive slope, or vice-versa, the derivative must pass through 0."
      ]
    },
    {
      "cell_type": "markdown",
      "metadata": {
        "id": "Vc1px3cfpkPw",
        "colab_type": "text"
      },
      "source": [
        "#5. Write a Python code to display that simply a derivative value equals to 0 does not guarantee the minimum or maximum of the function.  \n",
        "for example,  \\begin{equation}v(x) = x^{3} - 2x + 100 \\end{equation}  \n"
      ]
    },
    {
      "cell_type": "markdown",
      "metadata": {
        "id": "y-rdqITsrsGh",
        "colab_type": "text"
      },
      "source": [
        "\n",
        "\n",
        "---\n",
        "\n"
      ]
    },
    {
      "cell_type": "code",
      "metadata": {
        "id": "P-LzhBg8nz4J",
        "colab_type": "code",
        "outputId": "37e4a092-535f-4d32-8166-6f5b54d28f5c",
        "colab": {
          "base_uri": "https://localhost:8080/",
          "height": 529
        }
      },
      "source": [
        "#Your code of question 5 should appear here\n",
        "\n",
        "x = Symbol('x')\n",
        "\n",
        "def v(x):\n",
        "  return x**3 - 2*x + 100\n",
        "def v_prime(x):\n",
        "  return v(x).diff(x)\n",
        "\n",
        "x_root = solve(v_prime(x))\n",
        "\n",
        "print(\"Derivative value equals to 0 :\",x_root[0],\",\",x_root[1])\n",
        "print()\n",
        "\n",
        "from random import *\n",
        "\n",
        "number1 = 0\n",
        "\n",
        "while v(x_root[0]) > v(number1):\n",
        "  number1 = randint(-5,5)\n",
        "  if v(number1) > v(x_root[0]):\n",
        "    print(\"v(\",x_root[0],\") =\",v(x_root[0]),\"<\",\"v(\",number1,\") =\",v(number1))\n",
        "    print(\"A derivative value equals to 0 does not guarantee the maximum of the function\")\n",
        "    print()\n",
        "\n",
        "number2 = 0\n",
        "\n",
        "while v(x_root[1]) < v(number2):\n",
        "  number2 = randint(-5,5)\n",
        "  if v(number2) < v(x_root[0]):\n",
        "    print(\"v(\",x_root[1],\") =\",v(x_root[1]),\">\",\"v(\",number2,\") =\",v(number2))\n",
        "    print(\"A derivative value equals to 0 does not guarantee the minimum of the function\")\n",
        "    print()\n",
        "\n",
        "x2 = list(range(-5,5))\n",
        "y2 = [v(i) for i in x2]\n",
        "\n",
        "plt.xlabel('x')\n",
        "plt.ylabel('v(x)')\n",
        "plt.grid()\n",
        "plt.plot(x2,y2, color='red')\n",
        "plt.scatter(x_root[0],v(x_root[0]), color='blue')\n",
        "plt.scatter(x_root[1],v(x_root[1]), color='blue')\n",
        "plt.show()\n",
        "\n",
        "print(\"The blue dots are the points that derivative value equals to 0\")\n",
        "print(\"But ther are not maximum or minimum\")"
      ],
      "execution_count": 216,
      "outputs": [
        {
          "output_type": "stream",
          "text": [
            "Derivative value equals to 0 : -sqrt(6)/3 , sqrt(6)/3\n",
            "\n",
            "v( -sqrt(6)/3 ) = 4*sqrt(6)/9 + 100 < v( 3 ) = 121\n",
            "A derivative value equals to 0 does not guarantee the maximum of the function\n",
            "\n",
            "v( sqrt(6)/3 ) = -4*sqrt(6)/9 + 100 > v( -1 ) = 101\n",
            "A derivative value equals to 0 does not guarantee the minimum of the function\n",
            "\n",
            "v( sqrt(6)/3 ) = -4*sqrt(6)/9 + 100 > v( -3 ) = 79\n",
            "A derivative value equals to 0 does not guarantee the minimum of the function\n",
            "\n"
          ],
          "name": "stdout"
        },
        {
          "output_type": "display_data",
          "data": {
            "image/png": "[encoded data removed]",
            "text/plain": [
              "<Figure size 432x288 with 1 Axes>"
            ]
          },
          "metadata": {
            "tags": [],
            "needs_background": "light"
          }
        },
        {
          "output_type": "stream",
          "text": [
            "The blue dots are the points that derivative value equals to 0\n",
            "But ther are not maximum or minimum\n"
          ],
          "name": "stdout"
        }
      ]
    },
    {
      "cell_type": "markdown",
      "metadata": {
        "id": "Pd4xTUpUryma",
        "colab_type": "text"
      },
      "source": [
        "The blue dots are the points that derivative value equals to 0\n",
        "\n",
        "But ther are not maximum or minimum"
      ]
    },
    {
      "cell_type": "markdown",
      "metadata": {
        "id": "fqXD5MUDr1B_",
        "colab_type": "text"
      },
      "source": [
        "Consider the derivatives of a function like the following: \n",
        "\n",
        "$$f(x,y) = x^2 + y^2$$\n",
        "\n",
        "We can take a derivative of the changes in the function with respect to either x or y.  Let's give this a try by taking the derivative of $f(x,y)$ with respect to ***x***. We write this partial derivative as follows.\n",
        "\n",
        "$$\\frac{\\partial f(x,y)}{\\partial x} = \\frac{\\partial (x^2 + y^2)}{\\partial x}$$\n",
        "\n",
        "The partial derivatives find the analog of the slope for multi-dimensional surfaces. We call this qunatity the gradient. The partial derivatives of the $$f(x,y)$$ can be written in a 2 dimensional vector of the change of the function\n",
        "$$grad(f(x,y)) = \\begin{bmatrix}\\frac{\\partial f(x,y)}{\\partial x} \\\\ \\frac{\\partial f(x,y)}{\\partial y} \\end{bmatrix} = \\begin{bmatrix}2x \\\\ 2y \\end{bmatrix} $$\n",
        "\n",
        "\n"
      ]
    },
    {
      "cell_type": "markdown",
      "metadata": {
        "id": "m2zT4J7Fs_ka",
        "colab_type": "text"
      },
      "source": [
        "#6. Write a Python code to generate the 2-dimensional gradient vector $$f(x,y) = x^2 + y^2 $$"
      ]
    },
    {
      "cell_type": "markdown",
      "metadata": {
        "id": "JuyqiOaDtlJI",
        "colab_type": "text"
      },
      "source": [
        "\n",
        "\n",
        "---\n",
        "\n"
      ]
    },
    {
      "cell_type": "code",
      "metadata": {
        "id": "ljZEVgBSs-zL",
        "colab_type": "code",
        "outputId": "78bf2a7d-60b8-4333-f246-74ec6a83dc66",
        "colab": {
          "base_uri": "https://localhost:8080/",
          "height": 36
        }
      },
      "source": [
        "#Your code of Question 6 should appear here \n",
        "\n",
        "import numpy as np\n",
        "\n",
        "x,y = symbols('x,y')\n",
        "\n",
        "def f(x,y):\n",
        "  return x**2 + y**2\n",
        "def f_prime1(x,y):\n",
        "  return f(x,y).diff(x)\n",
        "def f_prime2(x,y):\n",
        "  return f(x,y).diff(y)\n",
        "\n",
        "GD_vector = np.array([f_prime1(x,y),f_prime2(x,y)])\n",
        "print(\"2-dimensional gradient vector :\",GD_vector)"
      ],
      "execution_count": 217,
      "outputs": [
        {
          "output_type": "stream",
          "text": [
            "2-dimensional gradient vector : [2*x 2*y]\n"
          ],
          "name": "stdout"
        }
      ]
    },
    {
      "cell_type": "markdown",
      "metadata": {
        "id": "eozy2A2Qtrmv",
        "colab_type": "text"
      },
      "source": [
        "2-dimensional gradient vector : [2*x 2*y]\n",
        "\n"
      ]
    },
    {
      "cell_type": "markdown",
      "metadata": {
        "id": "aAzrj7E6uHOw",
        "colab_type": "text"
      },
      "source": [
        "All you have to do with this gradient vector would direct to find the minimum of the function $$𝑓(𝑥,𝑦)=𝑥^2+𝑦^2$$ \n",
        "It is easy to see that the minimum of this function is at 𝑥=0  and  𝑦=0. \n",
        "\n",
        "But, what if you did not know the solution of the n-dimensional problem (which your data would be normally more than 100 dimensions)?\n",
        "\n",
        "Then the Gradient Descent Method could be applicable as follows:\n",
        "\n",
        "1. Compute the gradient.\n",
        "2. Take a small step in the direction of the gradient.\n",
        "3. Determine if the gradient is close to zero. If so, then stop, since the gradient will be zero at the minimum.\n",
        "4. Repeate steps 2, 3 and 4.\n",
        "\n",
        "The algorithm outlined above is called the gradient decent method. It is the basis of many real-world minimization algorithms."
      ]
    },
    {
      "cell_type": "markdown",
      "metadata": {
        "id": "dfIreKC9ttZK",
        "colab_type": "text"
      },
      "source": [
        "#7. Implement a Gradient descent method (with Python), so to find the optimal minimal solution $$𝑓(𝑥,𝑦,z)= (𝑥-3)^2 + (𝑦-2)^2 + (z-5)^2 $$\n",
        "Please extend the code from Question 6.  "
      ]
    },
    {
      "cell_type": "markdown",
      "metadata": {
        "id": "OK8Ep_K9vqpl",
        "colab_type": "text"
      },
      "source": [
        "\n",
        "\n",
        "---\n",
        "\n"
      ]
    },
    {
      "cell_type": "code",
      "metadata": {
        "id": "3By9FAhKj30L",
        "colab_type": "code",
        "outputId": "71a1b96f-ce5a-4f9f-86a2-d97479df3b33",
        "colab": {
          "base_uri": "https://localhost:8080/",
          "height": 74
        }
      },
      "source": [
        "#Your coide for Question 7 should appear here.\n",
        "\n",
        "x,y,z = symbols('x,y,z')\n",
        "\n",
        "def f(x,y,z):\n",
        "  return (x-3)**2 + (y-2)**2 + (z-5)**2\n",
        "def f_prime1(x,y,z):\n",
        "  return f(x,y,z).diff(x)\n",
        "def f_prime2(x,y,z):\n",
        "  return f(x,y,z).diff(y)\n",
        "def f_prime3(x,y,z):\n",
        "  return f(x,y,z).diff(z)\n",
        "\n",
        "GD_vector2 = np.array([f_prime1(x,y,z),f_prime2(x,y,z),f_prime3(x,y,z)])\n",
        "print(GD_vector2)\n",
        "print()\n",
        "\n",
        "f_prime1_lam = lambdify(x,f_prime1(x,y,z))\n",
        "f_prime2_lam = lambdify(y,f_prime2(x,y,z))\n",
        "f_prime3_lam = lambdify(z,f_prime3(x,y,z))\n",
        "\n",
        "x = 10\n",
        "y = 10\n",
        "z = 10\n",
        "\n",
        "for i in range(5000):\n",
        "  if f_prime1_lam(x) > 0:\n",
        "    x = x - 0.01\n",
        "  else:\n",
        "    x = x + 0.01\n",
        "\n",
        "for i in range(5000):\n",
        "  if f_prime2_lam(y) > 0:\n",
        "    y = y - 0.01\n",
        "  else:\n",
        "    y = y + 0.01\n",
        "\n",
        "for i in range(5000):\n",
        "  if f_prime3_lam(z) > 0:\n",
        "    z = z - 0.01\n",
        "  else:\n",
        "    z = z + 0.01\n",
        "\n",
        "Optimal_minimal_solution = [x,y,z]\n",
        "\n",
        "print(\"Optimal minimal solution :\",Optimal_minimal_solution)"
      ],
      "execution_count": 218,
      "outputs": [
        {
          "output_type": "stream",
          "text": [
            "[2*x - 6 2*y - 4 2*z - 10]\n",
            "\n",
            "Optimal minimal solution : [3.000000000000149, 2.0000000000001705, 5.000000000000107]\n"
          ],
          "name": "stdout"
        }
      ]
    },
    {
      "cell_type": "markdown",
      "metadata": {
        "id": "PMl9cHnQvsOf",
        "colab_type": "text"
      },
      "source": [
        "[x, y, z] = [3, 2, 5]\n"
      ]
    },
    {
      "cell_type": "markdown",
      "metadata": {
        "id": "sgWoxRBrvuXl",
        "colab_type": "text"
      },
      "source": [
        "#8. Apply the Gradient Descent Method (from Question 7) to find the optimal minimal point of the following function (you need to use the chain rule from Question 4)  \n",
        "\n",
        "## $$ w(x) = f(g(h(k(x)))) $$\n",
        "\n",
        "where, \n",
        "$$ f(x) = log(g(x)) $$\n",
        "$$ g(x) = e^{h(x)} $$\n",
        "$$ h(x) = 2x^2+k(x) $$\n",
        "$$ k(x) = 5x-1 $$\n",
        "\n",
        "\n"
      ]
    },
    {
      "cell_type": "code",
      "metadata": {
        "id": "pODWLJVrx46G",
        "colab_type": "code",
        "outputId": "a2982aac-1233-4a6d-b9f2-45237b8b047b",
        "colab": {
          "base_uri": "https://localhost:8080/",
          "height": 152
        }
      },
      "source": [
        "# Your answer of Question #8 should appear here. \n",
        "\n",
        "e = exp(1)\n",
        "x = Symbol('x')\n",
        "\n",
        "def k(x):\n",
        "  return 5*x - 1\n",
        "def h(x):\n",
        "  return 2*x**2 + k(x)\n",
        "def g(x):\n",
        "  return e**h(x)\n",
        "def f(x):\n",
        "  return log(g(x))\n",
        "\n",
        "wx_prime = simplify(diff(f(x),x).subs(x,g(h(k(x))))*diff(g(x),x).subs(x,h(k(x)))*diff(h(x),x).subs(x,k(x))*diff(k(x),x))\n",
        "print(wx_prime)\n",
        "print()\n",
        "\n",
        "x1 = 10\n",
        "x2 = 10\n",
        "x3 = 10\n",
        "\n",
        "for i in range(5000):\n",
        "  if (20*x1 + 1) > 0:\n",
        "    x1 = x1 - 0.01\n",
        "  else:\n",
        "    x1 = x1 + 0.01\n",
        "\n",
        "for i in range(5000):\n",
        "  if (4*exp(125*x2 + 10*(5*x2 - 1)**2 + 2*(25*x2 + 2*(5*x2 - 1)**2 - 6)**2 - 31) + 5) > 0:\n",
        "    x2 = x2 - 0.01\n",
        "  else:\n",
        "    x2 = x2 + 0.01\n",
        "\n",
        "for i in range(5000):\n",
        "  if (100*x3 + 8*(5*x3 - 1)**2 - 19)*exp(125*x3 + 10*(5*x3 - 1)**2 + 2*(25*x3 + 2*(5*x3 - 1)**2 - 6)**2 - 31) > 0:\n",
        "    x3 = x3 - 0.01\n",
        "  else:\n",
        "    x3 = x3 + 0.01\n",
        "\n",
        "print(x1,x2,x3)\n",
        "\n",
        "print()\n",
        "print(\"optimal minimal points :\",[x1,x3])\n",
        "print(\"The case of x2 is exculded because the gradient is always increased.\")"
      ],
      "execution_count": 219,
      "outputs": [
        {
          "output_type": "stream",
          "text": [
            "5*(20*x + 1)*(4*exp(125*x + 10*(5*x - 1)**2 + 2*(25*x + 2*(5*x - 1)**2 - 6)**2 - 31) + 5)*(100*x + 8*(5*x - 1)**2 - 19)*exp(125*x + 10*(5*x - 1)**2 + 2*(25*x + 2*(5*x - 1)**2 - 6)**2 - 31)\n",
            "\n",
            "-0.05999999999983112 -40.00000000000044 0.1800000000001689\n",
            "\n",
            "optimal minimal points : [-0.05999999999983112, 0.1800000000001689]\n",
            "The case of x2 is exculded because the gradient is always increased.\n"
          ],
          "name": "stdout"
        }
      ]
    },
    {
      "cell_type": "markdown",
      "metadata": {
        "id": "usA8C38Ax-0e",
        "colab_type": "text"
      },
      "source": [
        "\n",
        "\n",
        "---\n",
        "\n"
      ]
    },
    {
      "cell_type": "markdown",
      "metadata": {
        "id": "exIfYKkxyBWz",
        "colab_type": "text"
      },
      "source": [
        "In general terms, a matrix is an array of numbers that are arranged into rows and columns.\n",
        "\n",
        "## Matrices and Matrix Notation\n",
        "A matrix arranges numbers into rows and columns, like this:\n",
        "\n",
        "\\begin{equation}A = \\begin{bmatrix}\n",
        "  1 & 2 & 3 \\\\\n",
        "  4 & 5 & 6\n",
        " \\end{bmatrix}\n",
        "\\end{equation}\n",
        "\n",
        "Note that matrices are generally named as a capital letter. We refer to the *elements* of the matrix using the lower case equivalent with a subscript row and column indicator, like this:\n",
        "\n",
        "\\begin{equation}A = \\begin{bmatrix}\n",
        "  a_{1,1} & a_{1,2} & a_{1,3} \\\\\n",
        "  a_{2,1} & a_{2,2} & a_{2,3}\n",
        " \\end{bmatrix}\n",
        "\\end{equation}\n",
        "\n",
        "In Python, you can define a matrix as a 2-dimensional *numpy.**array***, like this:"
      ]
    },
    {
      "cell_type": "code",
      "metadata": {
        "id": "spkSUnLSypZN",
        "colab_type": "code",
        "colab": {}
      },
      "source": [
        "#execute the following code "
      ],
      "execution_count": 0,
      "outputs": []
    },
    {
      "cell_type": "code",
      "metadata": {
        "id": "GP07NxTEyseD",
        "colab_type": "code",
        "outputId": "7b880d5c-2bfc-44e9-9894-295e80c67fc9",
        "colab": {
          "base_uri": "https://localhost:8080/",
          "height": 55
        }
      },
      "source": [
        "import numpy as np\n",
        "\n",
        "A = np.array([[1,2,3],\n",
        "              [4,5,6]])\n",
        "print (A)"
      ],
      "execution_count": 220,
      "outputs": [
        {
          "output_type": "stream",
          "text": [
            "[[1 2 3]\n",
            " [4 5 6]]\n"
          ],
          "name": "stdout"
        }
      ]
    },
    {
      "cell_type": "markdown",
      "metadata": {
        "id": "uO45EtgXyzJv",
        "colab_type": "text"
      },
      "source": [
        "You can also use the numpy.matrix type, which is a specialist subclass of array:"
      ]
    },
    {
      "cell_type": "code",
      "metadata": {
        "id": "21o9S4Z_yua4",
        "colab_type": "code",
        "colab": {}
      },
      "source": [
        "#execute the following code "
      ],
      "execution_count": 0,
      "outputs": []
    },
    {
      "cell_type": "code",
      "metadata": {
        "id": "yV2vSAw9y8nW",
        "colab_type": "code",
        "outputId": "b2c6e2b9-57d4-4a51-bb43-184fdd1171da",
        "colab": {
          "base_uri": "https://localhost:8080/",
          "height": 52
        }
      },
      "source": [
        "import numpy as np\n",
        "\n",
        "M = np.matrix([[1,2,3],\n",
        "               [4,5,6]])\n",
        "print (M)"
      ],
      "execution_count": 0,
      "outputs": [
        {
          "output_type": "stream",
          "text": [
            "[[1 2 3]\n",
            " [4 5 6]]\n"
          ],
          "name": "stdout"
        }
      ]
    },
    {
      "cell_type": "markdown",
      "metadata": {
        "id": "fq6rxElXzCfJ",
        "colab_type": "text"
      },
      "source": [
        "#9. You now have the 2-dimensional gradient vector from Question 6. Create a matrix to hold the gradient values of the following two points \n",
        "\n",
        "(x<sub>1</sub>, y<sub>1</sub>) = (1,3), (x<sub>2</sub>, y<sub>2</sub>) = (-1,-3) "
      ]
    },
    {
      "cell_type": "code",
      "metadata": {
        "id": "Mys1bU-L0o6Y",
        "colab_type": "code",
        "outputId": "797e46ac-6a6f-42fd-eced-34b7d2fe3706",
        "colab": {
          "base_uri": "https://localhost:8080/",
          "height": 55
        }
      },
      "source": [
        "#Your code of question 9 should be here \n",
        "\n",
        "x,y = symbols('x,y')\n",
        "\n",
        "def f(x,y):\n",
        "  return x**2 + y**2\n",
        "def f_prime1(x,y):\n",
        "  return f(x,y).diff(x)\n",
        "def f_prime2(x,y):\n",
        "  return f(x,y).diff(y)\n",
        "\n",
        "g_prime1 = lambdify(x,f_prime1(x,y))\n",
        "g_prime2 = lambdify(y,f_prime2(x,y))\n",
        "\n",
        "Gradience_Matrix = np.array([[g_prime1(1),g_prime2(3)],[g_prime1(-1),g_prime2(-3)]]) \n",
        "print(Gradience_Matrix)"
      ],
      "execution_count": 223,
      "outputs": [
        {
          "output_type": "stream",
          "text": [
            "[[ 2  6]\n",
            " [-2 -6]]\n"
          ],
          "name": "stdout"
        }
      ]
    },
    {
      "cell_type": "markdown",
      "metadata": {
        "id": "e6Lt48wF0uiQ",
        "colab_type": "text"
      },
      "source": [
        "\n",
        "\n",
        "---\n",
        "\n"
      ]
    },
    {
      "cell_type": "markdown",
      "metadata": {
        "id": "YuLsawK_0xfE",
        "colab_type": "text"
      },
      "source": [
        "By the gradient descent method, you need to move your next search point toward the left, at (x<sub>1</sub>, y<sub>1</sub>). By the same convention, you need to move your next search point  toward the right, at (x<sub>2</sub>, y<sub>2</sub>), until the gradient vectors' values of your search points are close to 0.   \n",
        "\n",
        "---\n",
        "\n",
        "#10. Update your code from #Question7 to encompass the multi-dimensional gradient descent methods using the gradient matrices. "
      ]
    },
    {
      "cell_type": "code",
      "metadata": {
        "id": "5h4d3jpcy9QR",
        "colab_type": "code",
        "colab": {}
      },
      "source": [
        "#YOUR CODE OF QUESTION 10 SHOULD BE HERE \n",
        "\n"
      ],
      "execution_count": 0,
      "outputs": []
    },
    {
      "cell_type": "markdown",
      "metadata": {
        "id": "e40xrm3d2VKc",
        "colab_type": "text"
      },
      "source": [
        "\n",
        "\n",
        "---\n",
        "\n"
      ]
    },
    {
      "cell_type": "markdown",
      "metadata": {
        "id": "DQF2akdY2XrF",
        "colab_type": "text"
      },
      "source": [
        "We can decompse a matrix using the following formula: \n",
        "Where ***A*** is a matrix (for example the answer from Question 9), ***Q*** is a matrix of eigenvectors that defines a change of basis, and ***&Lambda;*** is a matrix with eigenvalues on the diagonal that defines the same linear transformation as ***A*** in the base defined by ***Q***.\n",
        "\n",
        "Consider this matrix:\n",
        "\n",
        "$$A=\\begin{bmatrix}3 & 2\\\\1 & 0\\end{bmatrix}$$\n",
        "\n",
        "(note that you need to change this ***A*** into the answer from Question #9.) \n",
        "\n",
        "***Q*** is a matrix in which each column is an eigenvector of ***A***; which we can calculate using Python:"
      ]
    },
    {
      "cell_type": "code",
      "metadata": {
        "id": "4MDkQBoF9m77",
        "colab_type": "code",
        "colab": {}
      },
      "source": [
        "#Execute the following code"
      ],
      "execution_count": 0,
      "outputs": []
    },
    {
      "cell_type": "code",
      "metadata": {
        "id": "ITUwV4Rr9qTE",
        "colab_type": "code",
        "outputId": "c631bded-c2ed-4271-95a1-b91a4267e7bd",
        "colab": {
          "base_uri": "https://localhost:8080/",
          "height": 50
        }
      },
      "source": [
        "import numpy as np\n",
        "\n",
        "A = np.array([[3,2],\n",
        "              [1,0]])\n",
        "\n",
        "l, Q = np.linalg.eig(A)\n",
        "print(Q)"
      ],
      "execution_count": 0,
      "outputs": [
        {
          "output_type": "stream",
          "text": [
            "[[ 0.96276969 -0.48963374]\n",
            " [ 0.27032301  0.87192821]]\n"
          ],
          "name": "stdout"
        }
      ]
    },
    {
      "cell_type": "markdown",
      "metadata": {
        "id": "1kzjEB7i9uS7",
        "colab_type": "text"
      },
      "source": [
        "So for matrix ***A***, ***Q*** is the following matrix:\n",
        "\n",
        "$$Q=\\begin{bmatrix}0.96276969 & -0.48963374\\\\0.27032301 & 0.87192821\\end{bmatrix}$$\n",
        "\n",
        "***&Lambda;*** is a matrix that contains the eigenvalues for ***A*** on the diagonal, with zeros in all other elements; so for a 2x2 matrix, &Lambda; will look like this:\n",
        "\n",
        "$$\\Lambda=\\begin{bmatrix}\\lambda_{1} & 0\\\\0 & \\lambda_{2}\\end{bmatrix}$$\n",
        "\n",
        "In the Python code, the ***linalg.eig*** function to return the array of eigenvalues for ***A*** into the variable ***l***, so now we just need to format that as a matrix:"
      ]
    },
    {
      "cell_type": "code",
      "metadata": {
        "id": "lQ_hXNor9r7g",
        "colab_type": "code",
        "colab": {}
      },
      "source": [
        "#Execute the following code"
      ],
      "execution_count": 0,
      "outputs": []
    },
    {
      "cell_type": "code",
      "metadata": {
        "id": "V_jMwuz4-Eir",
        "colab_type": "code",
        "outputId": "a2c69081-263c-4c02-c0e9-f2802cce672a",
        "colab": {
          "base_uri": "https://localhost:8080/",
          "height": 50
        }
      },
      "source": [
        "L = np.diag(l)\n",
        "print (L)"
      ],
      "execution_count": 0,
      "outputs": [
        {
          "output_type": "stream",
          "text": [
            "[[ 3.56155281  0.        ]\n",
            " [ 0.         -0.56155281]]\n"
          ],
          "name": "stdout"
        }
      ]
    },
    {
      "cell_type": "markdown",
      "metadata": {
        "id": "l_mjFwpq-Jdr",
        "colab_type": "text"
      },
      "source": [
        "So ***&Lambda;*** is the following matrix:\n",
        "\n",
        "$$\\Lambda=\\begin{bmatrix}3.56155281 & 0\\\\0 & -0.56155281\\end{bmatrix}$$\n",
        "\n",
        "Now we  need to find ***Q<sup>-1</sup>***, which is the inverse of ***Q***:"
      ]
    },
    {
      "cell_type": "code",
      "metadata": {
        "id": "r1CWO_h8-GHD",
        "colab_type": "code",
        "colab": {}
      },
      "source": [
        "#execute the following code "
      ],
      "execution_count": 0,
      "outputs": []
    },
    {
      "cell_type": "code",
      "metadata": {
        "id": "8FgH0HqT-Ry1",
        "colab_type": "code",
        "outputId": "7e9ad81e-86df-4d46-b1e3-2cdf542344dc",
        "colab": {
          "base_uri": "https://localhost:8080/",
          "height": 50
        }
      },
      "source": [
        "Qinv = np.linalg.inv(Q)\n",
        "print(Qinv)"
      ],
      "execution_count": 0,
      "outputs": [
        {
          "output_type": "stream",
          "text": [
            "[[ 0.89720673  0.50382896]\n",
            " [-0.27816009  0.99068183]]\n"
          ],
          "name": "stdout"
        }
      ]
    },
    {
      "cell_type": "markdown",
      "metadata": {
        "id": "d6_sefWO-VUt",
        "colab_type": "text"
      },
      "source": [
        "The inverse of ***Q*** then, is:\n",
        "\n",
        "$$Q^{-1}=\\begin{bmatrix}0.89720673 & 0.50382896\\\\-0.27816009 & 0.99068183\\end{bmatrix}$$\n",
        "\n",
        "Now, we can decompose the transformation of *any* vector multiplied by matrix ***A*** into the separate operations ***Q&Lambda;Q<sup>-1</sup>***\n",
        "\n",
        "This is called as an eigendecomposition..."
      ]
    },
    {
      "cell_type": "markdown",
      "metadata": {
        "id": "BAiZhEtQ_SZn",
        "colab_type": "text"
      },
      "source": [
        "#11. Display ***A*** and the following eigendecomposition is equivalent \n",
        "$$Q \\Lambda Q^{-1} $$\n"
      ]
    },
    {
      "cell_type": "code",
      "metadata": {
        "id": "IyvqSrb_-SMf",
        "colab_type": "code",
        "colab": {
          "base_uri": "https://localhost:8080/",
          "height": 420
        },
        "outputId": "8fa2d644-98b6-47ca-c063-b5cf86b1f8cb"
      },
      "source": [
        "#Your code (or displaying result) should appear here. \n",
        "\n",
        "import numpy as np\n",
        "\n",
        "A = np.array([[2,6],\n",
        "              [-2,-6]])\n",
        "\n",
        "print(\"A :\\n\",A)\n",
        "print()\n",
        "\n",
        "l, Q = np.linalg.eig(A)\n",
        "print(\"Q :\\n\",Q)\n",
        "print()\n",
        "\n",
        "L = np.diag(l)\n",
        "print(\"Λ :\\n\",L)\n",
        "print()\n",
        "\n",
        "Q_inv = np.linalg.inv(Q)\n",
        "print(\"Q−1 :\\n\",Q_inv)\n",
        "print()\n",
        "\n",
        "print(\"QΛQ−1 :\\n\",Q.dot(L).dot(Q_inv))\n",
        "print()\n",
        "print(\"So, A = QΛQ−1\")"
      ],
      "execution_count": 224,
      "outputs": [
        {
          "output_type": "stream",
          "text": [
            "A :\n",
            " [[ 2  6]\n",
            " [-2 -6]]\n",
            "\n",
            "Q :\n",
            " [[ 0.9486833  -0.70710678]\n",
            " [-0.31622777  0.70710678]]\n",
            "\n",
            "Λ :\n",
            " [[ 0.  0.]\n",
            " [ 0. -4.]]\n",
            "\n",
            "Q−1 :\n",
            " [[1.58113883 1.58113883]\n",
            " [0.70710678 2.12132034]]\n",
            "\n",
            "QΛQ−1 :\n",
            " [[ 2.  6.]\n",
            " [-2. -6.]]\n",
            "\n",
            "So, A = QΛQ−1\n"
          ],
          "name": "stdout"
        }
      ]
    },
    {
      "cell_type": "markdown",
      "metadata": {
        "id": "CY784rwR_rG9",
        "colab_type": "text"
      },
      "source": [
        "A = QΛQ−1"
      ]
    },
    {
      "cell_type": "markdown",
      "metadata": {
        "id": "sLgcUNq9_yin",
        "colab_type": "text"
      },
      "source": [
        "In your later study (I reckon Year 3) with regard to Deep learning, you will revisit this eigendecomposition issue when you learn 'Regularization'. \n",
        "\n",
        "For example, your Hessian Matrix (in fact the following is the Hessian Matrix of Question #6) \n",
        "$$A=\\begin{bmatrix}2 & 0\\\\0 & 2\\end{bmatrix}$$\n",
        "\n",
        "Then, you apply the eigendecomposition of ***A***, resulting \n",
        "\n",
        "$$ H = Q \\Lambda Q^{-1} $$\n",
        "\n",
        "Then the ***H*** can be added up by an Identity matrix multiplied by a certain constant to a new Hessian Matrix, such as:\n",
        "\n",
        "$$H'=\\begin{bmatrix}h_{11}+\\alpha & 0\\\\0 & h_{22}+\\alpha\\end{bmatrix}$$\n",
        "\n",
        "The inverse of the new matrix ***H'*** would be used to along with your gradient descent method (from your question #10), to find the solution of the deep learning.  "
      ]
    },
    {
      "cell_type": "markdown",
      "metadata": {
        "id": "4zysaMkKBhSZ",
        "colab_type": "text"
      },
      "source": [
        "#12. First, write a Python program to make eigendecomposition,  then show how H can be converted into ***H'***, then finally find the inverse matrix of ***H'*** \n",
        "\n",
        "$$A=\\begin{bmatrix}2 & 0\\\\0 & 2\\end{bmatrix}$$\n",
        "\n"
      ]
    },
    {
      "cell_type": "code",
      "metadata": {
        "id": "kOJPPPep-jjz",
        "colab_type": "code",
        "colab": {
          "base_uri": "https://localhost:8080/",
          "height": 132
        },
        "outputId": "5961e555-c635-49bf-cd07-2f374b8fb589"
      },
      "source": [
        "#Your code of Quesiton 12 should appear here\n",
        "# do not use the (built-in) inverse function of Python. I wish you to mae your own version of the inverse matrix implementation \n",
        "\n",
        "A = np.array([[2,0],\n",
        "              [0,2]])\n",
        "\n",
        "l, Q = np.linalg.eig(A)\n",
        "L = np.diag(l)\n",
        "Q_inv = np.linalg.inv(Q)\n",
        "\n",
        "H = Q.dot(L).dot(Q_inv)\n",
        "I = np.array([[1,0],\n",
        "              [0,1]])\n",
        "\n",
        "E1 = np.array([[1/2,0],\n",
        "               [0,1]])\n",
        "E2 = np.array([[1,0],\n",
        "               [0,1/2]])\n",
        "\n",
        "print(H.dot(E1).dot(E2))\n",
        "\n",
        "H_inv = I.dot(E1).dot(E2)\n",
        "print()\n",
        "print(\"H' :\\n\",H_inv)"
      ],
      "execution_count": 225,
      "outputs": [
        {
          "output_type": "stream",
          "text": [
            "[[1. 0.]\n",
            " [0. 1.]]\n",
            "\n",
            "H' :\n",
            " [[0.5 0. ]\n",
            " [0.  0.5]]\n"
          ],
          "name": "stdout"
        }
      ]
    },
    {
      "cell_type": "markdown",
      "metadata": {
        "id": "lSumP3maEmWh",
        "colab_type": "text"
      },
      "source": [
        "I used Gaussian Elimination for inverse matrix.\n",
        "\n",
        "After making the matrix into an identity matrix by multiplying other matrices,the result of repeating this process into an identity matrix is the inverse matrix.  \n",
        "\n"
      ]
    },
    {
      "cell_type": "markdown",
      "metadata": {
        "id": "oeyObiswEnqT",
        "colab_type": "text"
      },
      "source": [
        "Statistics are based on data, which consist of a collection of pieces of information about things you want to study. This information can take the form of descriptions, quantities, measurements, and other observations. Typically, we work with related data items in a dataset, which often consists of a collection of observations or cases. Most commonly, we thing about this dataset as a table that consists of a row for each observation, and a column for each individual data point related to that observation - we variously call these data points attributes or features, and they each describe a specific characteristic of the thing we're observing.\n",
        "\n",
        "Let's take a look at a real example. In 1886, Francis Galton conducted a study into the relationship between heights of parents and their (adult) children. Run the Python code below to view the data he collected (you can safely ignore a deprecation warning if it is displayed):"
      ]
    },
    {
      "cell_type": "code",
      "metadata": {
        "id": "wR2WQr3lE-3a",
        "colab_type": "code",
        "colab": {}
      },
      "source": [
        "#Execute the following code "
      ],
      "execution_count": 0,
      "outputs": []
    },
    {
      "cell_type": "code",
      "metadata": {
        "id": "HmvtC2rqFAuV",
        "colab_type": "code",
        "outputId": "1315f0e2-0fe4-4d63-a79a-007a1baa3fba",
        "colab": {
          "base_uri": "https://localhost:8080/",
          "height": 402
        }
      },
      "source": [
        "import statsmodels.api as sm\n",
        "\n",
        "df = sm.datasets.get_rdataset('GaltonFamilies', package='HistData').data\n",
        "df"
      ],
      "execution_count": 226,
      "outputs": [
        {
          "output_type": "execute_result",
          "data": {
            "text/html": [
              "<div>\n",
              "<style scoped>\n",
              "    .dataframe tbody tr th:only-of-type {\n",
              "        vertical-align: middle;\n",
              "    }\n",
              "\n",
              "    .dataframe tbody tr th {\n",
              "        vertical-align: top;\n",
              "    }\n",
              "\n",
              "    .dataframe thead th {\n",
              "        text-align: right;\n",
              "    }\n",
              "</style>\n",
              "<table border=\"1\" class=\"dataframe\">\n",
              "  <thead>\n",
              "    <tr style=\"text-align: right;\">\n",
              "      <th></th>\n",
              "      <th>family</th>\n",
              "      <th>father</th>\n",
              "      <th>mother</th>\n",
              "      <th>midparentHeight</th>\n",
              "      <th>children</th>\n",
              "      <th>childNum</th>\n",
              "      <th>gender</th>\n",
              "      <th>childHeight</th>\n",
              "    </tr>\n",
              "  </thead>\n",
              "  <tbody>\n",
              "    <tr>\n",
              "      <th>0</th>\n",
              "      <td>001</td>\n",
              "      <td>78.5</td>\n",
              "      <td>67.0</td>\n",
              "      <td>75.43</td>\n",
              "      <td>4</td>\n",
              "      <td>1</td>\n",
              "      <td>male</td>\n",
              "      <td>73.2</td>\n",
              "    </tr>\n",
              "    <tr>\n",
              "      <th>1</th>\n",
              "      <td>001</td>\n",
              "      <td>78.5</td>\n",
              "      <td>67.0</td>\n",
              "      <td>75.43</td>\n",
              "      <td>4</td>\n",
              "      <td>2</td>\n",
              "      <td>female</td>\n",
              "      <td>69.2</td>\n",
              "    </tr>\n",
              "    <tr>\n",
              "      <th>2</th>\n",
              "      <td>001</td>\n",
              "      <td>78.5</td>\n",
              "      <td>67.0</td>\n",
              "      <td>75.43</td>\n",
              "      <td>4</td>\n",
              "      <td>3</td>\n",
              "      <td>female</td>\n",
              "      <td>69.0</td>\n",
              "    </tr>\n",
              "    <tr>\n",
              "      <th>3</th>\n",
              "      <td>001</td>\n",
              "      <td>78.5</td>\n",
              "      <td>67.0</td>\n",
              "      <td>75.43</td>\n",
              "      <td>4</td>\n",
              "      <td>4</td>\n",
              "      <td>female</td>\n",
              "      <td>69.0</td>\n",
              "    </tr>\n",
              "    <tr>\n",
              "      <th>4</th>\n",
              "      <td>002</td>\n",
              "      <td>75.5</td>\n",
              "      <td>66.5</td>\n",
              "      <td>73.66</td>\n",
              "      <td>4</td>\n",
              "      <td>1</td>\n",
              "      <td>male</td>\n",
              "      <td>73.5</td>\n",
              "    </tr>\n",
              "    <tr>\n",
              "      <th>...</th>\n",
              "      <td>...</td>\n",
              "      <td>...</td>\n",
              "      <td>...</td>\n",
              "      <td>...</td>\n",
              "      <td>...</td>\n",
              "      <td>...</td>\n",
              "      <td>...</td>\n",
              "      <td>...</td>\n",
              "    </tr>\n",
              "    <tr>\n",
              "      <th>929</th>\n",
              "      <td>203</td>\n",
              "      <td>62.0</td>\n",
              "      <td>66.0</td>\n",
              "      <td>66.64</td>\n",
              "      <td>3</td>\n",
              "      <td>1</td>\n",
              "      <td>male</td>\n",
              "      <td>64.0</td>\n",
              "    </tr>\n",
              "    <tr>\n",
              "      <th>930</th>\n",
              "      <td>203</td>\n",
              "      <td>62.0</td>\n",
              "      <td>66.0</td>\n",
              "      <td>66.64</td>\n",
              "      <td>3</td>\n",
              "      <td>2</td>\n",
              "      <td>female</td>\n",
              "      <td>62.0</td>\n",
              "    </tr>\n",
              "    <tr>\n",
              "      <th>931</th>\n",
              "      <td>203</td>\n",
              "      <td>62.0</td>\n",
              "      <td>66.0</td>\n",
              "      <td>66.64</td>\n",
              "      <td>3</td>\n",
              "      <td>3</td>\n",
              "      <td>female</td>\n",
              "      <td>61.0</td>\n",
              "    </tr>\n",
              "    <tr>\n",
              "      <th>932</th>\n",
              "      <td>204</td>\n",
              "      <td>62.5</td>\n",
              "      <td>63.0</td>\n",
              "      <td>65.27</td>\n",
              "      <td>2</td>\n",
              "      <td>1</td>\n",
              "      <td>male</td>\n",
              "      <td>66.5</td>\n",
              "    </tr>\n",
              "    <tr>\n",
              "      <th>933</th>\n",
              "      <td>204</td>\n",
              "      <td>62.5</td>\n",
              "      <td>63.0</td>\n",
              "      <td>65.27</td>\n",
              "      <td>2</td>\n",
              "      <td>2</td>\n",
              "      <td>female</td>\n",
              "      <td>57.0</td>\n",
              "    </tr>\n",
              "  </tbody>\n",
              "</table>\n",
              "<p>934 rows × 8 columns</p>\n",
              "</div>"
            ],
            "text/plain": [
              "    family  father  mother  ...  childNum  gender  childHeight\n",
              "0      001    78.5    67.0  ...         1    male         73.2\n",
              "1      001    78.5    67.0  ...         2  female         69.2\n",
              "2      001    78.5    67.0  ...         3  female         69.0\n",
              "3      001    78.5    67.0  ...         4  female         69.0\n",
              "4      002    75.5    66.5  ...         1    male         73.5\n",
              "..     ...     ...     ...  ...       ...     ...          ...\n",
              "929    203    62.0    66.0  ...         1    male         64.0\n",
              "930    203    62.0    66.0  ...         2  female         62.0\n",
              "931    203    62.0    66.0  ...         3  female         61.0\n",
              "932    204    62.5    63.0  ...         1    male         66.5\n",
              "933    204    62.5    63.0  ...         2  female         57.0\n",
              "\n",
              "[934 rows x 8 columns]"
            ]
          },
          "metadata": {
            "tags": []
          },
          "execution_count": 226
        }
      ]
    },
    {
      "cell_type": "markdown",
      "metadata": {
        "id": "VoZJfOKOFI9U",
        "colab_type": "text"
      },
      "source": [
        "### Types of Data\n",
        "Now, let's take a closer look at this data.  There are 933 observations, each one recording information pertaining to an individual child. The information recorded consists of the following features:\n",
        "- **family**: An identifier for the family to which the child belongs.\n",
        "- **father**: The height of the father.\n",
        "- **mother**: The height of the mother.\n",
        "- **midparentHeight**: The mid-point between the father and mother's heights (calculated as *(father + 1.08 x mother) &div; 2*)\n",
        "- **children**: The total number of children in the family.\n",
        "- **childNum**: The number of the child to whom this observation pertains (Galton numbered the children in desending order of height, with male children listed before female children)\n",
        "- **gender**: The gender of the child to whom this observation pertains.\n",
        "- **childHeight**: The height of the child to whom this observation pertains.\n",
        "\n",
        "It's worth noting that there are several distinct types of data recorded here. To begin with, there are some features that represent *qualities*, or characteristics of the child - for example, gender. Other feaures represent a *quantity* or measurement, such as the child's height. So broadly speaking, we can divide data into *qualitative* and *quantitative* data.\n",
        "\n",
        "#### Qualitative Data\n",
        "Let's take a look at qualitative data first. This type of data is categorical - it is used to categorize or identify the entity being observed. Sometimes you'll see features of this type described as *factors*. \n",
        "##### Nominal Data\n",
        "In his observations of children's height, Galton assigned an identifier to each family and he recorded the gender of each child. Note that even though the **family** identifier is a number, it is not a measurement or quantity. Family 002 it not \"greater\" than family 001, just as a **gender** value of \"male\" does not indicate a larger or smaller value than \"female\". These are simply named values for some characteristic of the child, and as such they're known as *nominal* data.\n",
        "##### Ordinal Data\n",
        "What about the **childNum** feature? It's not a measurement or quantity - it's just a way to identify individual children within a family. However, the number assigned to each child has some additional meaning - the numbers are ordered. You can find similar data that is text-based; for example, data about training courses might include a \"level\" attribute that indicates the level of the course as \"basic:, \"intermediate\", or \"advanced\". This type of data, where the value is not itself a quantity or measurement, but it indicates some sort of inherent order or heirarchy, is known as *ordinal* data.\n",
        "#### Quantitative Data\n",
        "There are some kind of quantity or measurement: \n",
        "##### Discrete Data\n",
        "Galton's observations include the number of **children** in each family. This is a *discrete* quantative data value - it's something we *count* rather than *measure*. You can't, for example, have 2.33 children!\n",
        "##### Continuous Data\n",
        "The data set also includes height values for **father**, **mother**, **midparentHeight**, and **childHeight**. These are measurements along a scale, and as such they're described as *continuous* quantative data values that we *measure* rather than *count*.\n",
        "\n",
        "### Sample vs Population\n",
        "Galton's dataset includes 933 observations. It's safe to assume that this does not account for every person in the world, or even just the UK, in 1886 when the data was collected. In other words, Galton's data represents a *sample* of a larger *population*. It's worth pausing to think about this for a few seconds, because there are some implications for any conclusions we might draw from Galton's observations.\n",
        "\n",
        "Think about how many times you see a claim such as \"one in four Americans enjoys watching football\". How do the people who make this claim know that this is a fact? Have they asked everyone in the the US about their football-watching habits? Well, that would be a bit impractical, so what usually happens is that a study is conducted on a subset of the population, and (assuming that this is a well-conducted study), that subset will be a representative sample of the population as a whole. If the survey was conducted at the stadium where the Superbowl is being played, then the results are likely to be skewed because of a bias in the study participants.\n",
        "\n",
        "Similarly, we might look at Galton's data and assume that the heights of the people included in the study bears some relation to the heights of the general population in 1886; but if Galton specifically selected abnormally tall people for his study, then this assumption would be unfounded.\n",
        "\n",
        "When we deal with statistics, we usually work with a sample of the data rather than a full population. "
      ]
    },
    {
      "cell_type": "markdown",
      "metadata": {
        "id": "YYk8k8q_Gdht",
        "colab_type": "text"
      },
      "source": [
        "#13. Write a Python code to create a bar chart showing the number of children of each gender "
      ]
    },
    {
      "cell_type": "code",
      "metadata": {
        "id": "JVoSddixGqcK",
        "colab_type": "code",
        "outputId": "7c1f9cb9-ecdd-4724-e5c3-7c6bd344008f",
        "colab": {
          "base_uri": "https://localhost:8080/",
          "height": 295
        }
      },
      "source": [
        "#Your code of Quesiton 13 should appear here\n",
        "\n",
        "example1 = df.iloc[:,6]\n",
        "\n",
        "List_male = list()\n",
        "List_female = list()\n",
        "\n",
        "for i in range(len(example1)):\n",
        "  if(example1[i] == \"male\"):\n",
        "    List_male.append(i)\n",
        "  else:\n",
        "    List_female.append(i)\n",
        "\n",
        "x3 = ['male','female']\n",
        "y3 = [len(List_male), len(List_female)] \n",
        "\n",
        "plt.title('The number of children of each gender')\n",
        "plt.xlabel('gender')\n",
        "plt.ylabel('number')\n",
        "plt.bar(x3,y3,color = 'grey')\n",
        "plt.show()"
      ],
      "execution_count": 227,
      "outputs": [
        {
          "output_type": "display_data",
          "data": {
            "image/png": "[encoded data removed]",
            "text/plain": [
              "<Figure size 432x288 with 1 Axes>"
            ]
          },
          "metadata": {
            "tags": [],
            "needs_background": "light"
          }
        }
      ]
    },
    {
      "cell_type": "markdown",
      "metadata": {
        "id": "_VZ-bfclGxXk",
        "colab_type": "text"
      },
      "source": [
        "\n",
        "\n",
        "---\n",
        "\n"
      ]
    },
    {
      "cell_type": "markdown",
      "metadata": {
        "id": "y1hnGGn-GzL6",
        "colab_type": "text"
      },
      "source": [
        "## 14. Write a Python code to create a bar chart showing family counts based on the number of children in the family. "
      ]
    },
    {
      "cell_type": "code",
      "metadata": {
        "id": "VVkg8tWsHROr",
        "colab_type": "code",
        "outputId": "739a874b-5b75-460a-9a1b-7ae949cf665e",
        "colab": {
          "base_uri": "https://localhost:8080/",
          "height": 295
        }
      },
      "source": [
        "#Your code of question 14 should appear here\n",
        "\n",
        "example2 = df.iloc[:,4]\n",
        "\n",
        "List1 = list()\n",
        "List2 = list()\n",
        "\n",
        "for i in range(len(example2)):\n",
        "  List1.append(example2[i])\n",
        "\n",
        "List_new = list(set(List1))\n",
        "\n",
        "for i in List_new:\n",
        "  List2.append(List1.count(i)/i)\n",
        "\n",
        "x4 = List_new\n",
        "y4 = List2\n",
        "\n",
        "plt.title('Family counts based on the number of children in the family')\n",
        "plt.xlabel('The number of children in the family')\n",
        "plt.ylabel('The number of family')\n",
        "plt.bar(x4,y4,color = 'grey')\n",
        "plt.show()"
      ],
      "execution_count": 228,
      "outputs": [
        {
          "output_type": "display_data",
          "data": {
            "image/png": "[encoded data removed]",
            "text/plain": [
              "<Figure size 432x288 with 1 Axes>"
            ]
          },
          "metadata": {
            "tags": [],
            "needs_background": "light"
          }
        }
      ]
    },
    {
      "cell_type": "markdown",
      "metadata": {
        "id": "mSfw9H2iHCvB",
        "colab_type": "text"
      },
      "source": [
        "\n",
        "\n",
        "---\n",
        "\n"
      ]
    },
    {
      "cell_type": "markdown",
      "metadata": {
        "id": "Lw2_olV9HGD4",
        "colab_type": "text"
      },
      "source": [
        "##15. Write a Python code to create a histogram of the father values in the Galton dataset, which record the father's height"
      ]
    },
    {
      "cell_type": "code",
      "metadata": {
        "id": "UPomkVpAFBvl",
        "colab_type": "code",
        "colab": {
          "base_uri": "https://localhost:8080/",
          "height": 295
        },
        "outputId": "c4590002-98a9-4b4c-8216-cb0823dd7c28"
      },
      "source": [
        "#Your code of question 15 should appear here \n",
        "\n",
        "example3 = df.iloc[:,0]\n",
        "example4 = df.iloc[:,1]\n",
        "\n",
        "List_family = list()\n",
        "List_fatherheight = list()\n",
        "\n",
        "for i in range(len(example3)):\n",
        "  List_family.append(example3[i])\n",
        "\n",
        "List_family.append(str(int(List_family[-1])+1))\n",
        "\n",
        "for i in range(len(example3)):\n",
        "  if List_family[i] != List_family[i+1]:\n",
        "    List_fatherheight.append(example4[i])\n",
        "\n",
        "plt.title('The father values in the Galton dataset, which record the father height')\n",
        "plt.xlabel('The height of fathers')\n",
        "plt.ylabel('The numbert of fathers')\n",
        "plt.hist(List_fatherheight,color = 'grey')\n",
        "plt.show()"
      ],
      "execution_count": 229,
      "outputs": [
        {
          "output_type": "display_data",
          "data": {
            "image/png": "[encoded data removed]",
            "text/plain": [
              "<Figure size 432x288 with 1 Axes>"
            ]
          },
          "metadata": {
            "tags": [],
            "needs_background": "light"
          }
        }
      ]
    },
    {
      "cell_type": "markdown",
      "metadata": {
        "id": "iDzhCHLJHW5G",
        "colab_type": "text"
      },
      "source": [
        "\n",
        "\n",
        "---\n",
        "\n"
      ]
    },
    {
      "cell_type": "markdown",
      "metadata": {
        "id": "9_VF6L0lHYXT",
        "colab_type": "text"
      },
      "source": [
        "##16. Write a Python code creates a scatter plot that plots the intersection points for midparentHeight on the x axis and childHeight on the y axis"
      ]
    },
    {
      "cell_type": "code",
      "metadata": {
        "id": "XJseX2XzHszf",
        "colab_type": "code",
        "colab": {
          "base_uri": "https://localhost:8080/",
          "height": 295
        },
        "outputId": "8d2e4a94-0777-498b-f19a-7166f2ba7fcc"
      },
      "source": [
        "#your code of Question 16 should appear here \n",
        "\n",
        "example5 = df.iloc[:,3]\n",
        "example6 = df.iloc[:,7]\n",
        "\n",
        "List_midheight = list()\n",
        "List_childrenheight = list()\n",
        "\n",
        "for i in range(len(example5)):\n",
        "  List_midheight.append(example5[i])\n",
        "  List_childrenheight.append(example6[i])\n",
        "\n",
        "\n",
        "plt.title('A scatter plot that plots the intersection points for Midparent height and Child height')\n",
        "plt.xlabel('Midparent height')\n",
        "plt.ylabel('Child height')\n",
        "plt.scatter(List_midheight,List_childrenheight,color = 'grey',s = 10)\n",
        "plt.show()"
      ],
      "execution_count": 230,
      "outputs": [
        {
          "output_type": "display_data",
          "data": {
            "image/png": "[encoded data removed]",
            "text/plain": [
              "<Figure size 432x288 with 1 Axes>"
            ]
          },
          "metadata": {
            "tags": [],
            "needs_background": "light"
          }
        }
      ]
    },
    {
      "cell_type": "markdown",
      "metadata": {
        "id": "tCBMncOYHwVY",
        "colab_type": "text"
      },
      "source": [
        "\n",
        "\n",
        "---\n",
        "\n"
      ]
    },
    {
      "cell_type": "markdown",
      "metadata": {
        "id": "hwpoqVI0Iys_",
        "colab_type": "text"
      },
      "source": [
        "# Probability\n",
        "Many of the problems we try to solve using statistics are to do with *probability*. For example, what's the probable salary for a Data Science graduate who scored a given score in their final exam at school? \n",
        "\n",
        "\n",
        "## Probability Basics\n",
        "There are some basic definitions and principles.\n",
        "- An ***experiment*** or ***trial*** is an action with an uncertain outcome, such as tossing a coin.\n",
        "- A ***sample space*** is the set of all possible outcomes of an experiment. In a coin toss, there's a set of two possible oucomes (*heads* and *tails*).\n",
        "- A ***sample point*** is a single possible outcome - for example, *heads*)\n",
        "- An ***event*** is a specific outome of single instance of an experiment - for example, tossing a coin and getting *tails*.\n",
        "- ***Probability*** is a value between 0 and 1 that indicates the likelihood of a particular event, with 0 meaning that the event is impossible, and 1 meaning that the event is inevitable. In general terms, it's calculated like this:\n",
        "\n",
        "\\begin{equation}\\text{probability of an event} = \\frac{\\text{Number of sample points that produce the event}}{\\text{Total number of sample points in the sample space}} \\end{equation}\n",
        "\n",
        "For example, the probability of getting *heads* when tossing as coin is <sup>1</sup>/<sub>2</sub> - there is only one side of the coin that is designated *heads*. and there are two possible outcomes in the sample space (*heads* and *tails*). So the probability of getting *heads* in a single coin toss is 0.5 (or 50% when expressed as a percentage).\n",
        "\n",
        "### The Complement of an Event\n",
        "The *complement* of an event is the set of *sample points* that do ***not*** result in the event.\n",
        "\n",
        "For example, suppose your local weather forecaster indicates the predominant weather for each day of the week like this:\n",
        "\n",
        "<table>\n",
        "<tr><td style='text-align:center'>Mon</td><td style='text-align:center'>Tue</td><td style='text-align:center'>Wed</td><td style='text-align:center'>Thu</td><td style='text-align:center'>Fri</td><td style='text-align:center'>Sat</td><td style='text-align:center'>Sun</td></tr>\n",
        "<tr style='font-size:32px'><td>&#9729;</td><td>&#9730;</td><td>&#9728;</td><td>&#9728;</td><td>&#9728;</td><td>&#9729;</td><td>&#9728;</td></tr>\n",
        "</table>\n",
        "\n",
        "If you would like to find the probability of \"Not Sunny days, you should find the probability of \"Sunny days\" first and the applies the following complement of event,  \n",
        "\n",
        "\\begin{equation}P(A) = 1 - P(A') \\end{equation}\n",
        ", which results in\n",
        "\\begin{equation}P(A') = 1- P(A) = 1 - (4/7) chance of it not being sunny!"
      ]
    },
    {
      "cell_type": "markdown",
      "metadata": {
        "id": "t_6TeOsZI7K6",
        "colab_type": "text"
      },
      "source": [
        "## Conditional Probability and Dependence\n",
        "Events can be:\n",
        "- *Independent* (events that are not affected by other events)\n",
        "- *Dependent* (events that are conditional on other events)\n",
        "- *Mutually Exclusive* (events that can't occur together)\n",
        "\n",
        "### Independent Events\n",
        "Imagine you toss a coin. The sample space contains two possible outomes: heads or tails. \n",
        "The probability of getting *heads* is <sup>1</sup>/<sub>2</sub>, and the probability of getting *tails* is also <sup>1</sup>/<sub>2</sub>. \n",
        "\n",
        "Run the following Python code to simulate 10,000 coin tosses by assigning a random value of 0 or 1 to *heads* and *tails*. Each time the coin is tossed, the probability of getting *heads* or *tails* is 50%, so you should expect approximately half of the results to be *heads* and half to be *tails* (it won't be exactly half, due to a little random variation; but it should be close):"
      ]
    },
    {
      "cell_type": "code",
      "metadata": {
        "id": "Pkla8oSgLD2k",
        "colab_type": "code",
        "outputId": "09b777d9-f5ee-4a37-9892-7bb62b245051",
        "colab": {
          "base_uri": "https://localhost:8080/",
          "height": 322
        }
      },
      "source": [
        "%matplotlib inline\n",
        "import random\n",
        "\n",
        "# Create a list with 2 element (for heads and tails)\n",
        "heads_tails = [0,0]\n",
        "\n",
        "# loop through 10000 trials\n",
        "trials = 10000\n",
        "trial = 0\n",
        "while trial < trials:\n",
        "    trial = trial + 1\n",
        "    # Get a random 0 or 1\n",
        "    toss = random.randint(0,1)\n",
        "    # Increment the list element corresponding to the toss result\n",
        "    heads_tails[toss] = heads_tails[toss] + 1\n",
        "\n",
        "print (heads_tails)\n",
        "\n",
        "# Show a pie chart of the results\n",
        "from matplotlib import pyplot as plt\n",
        "plt.figure(figsize=(5,5))\n",
        "plt.pie(heads_tails, labels=['heads', 'tails'])\n",
        "plt.legend()\n",
        "plt.show()"
      ],
      "execution_count": 231,
      "outputs": [
        {
          "output_type": "stream",
          "text": [
            "[5062, 4938]\n"
          ],
          "name": "stdout"
        },
        {
          "output_type": "display_data",
          "data": {
            "image/png": "[encoded data removed]",
            "text/plain": [
              "<Figure size 360x360 with 1 Axes>"
            ]
          },
          "metadata": {
            "tags": []
          }
        }
      ]
    },
    {
      "cell_type": "markdown",
      "metadata": {
        "id": "KN9ZMjMJLdsO",
        "colab_type": "text"
      },
      "source": [
        "Now, imagine that you need to create a new game that mixes the excitment of coin-tossing with the thrill of die-rolling! The objective of the game is to roll a die and get 6, and toss a coin and get heads. On each turn of the game, a player rolls the die and tosses the coin, in sequence (in a row). \n",
        "\n",
        "###How can we calculate the probability of winning?\n",
        "\n",
        "There are two independent events required to win: a die-roll of *6* (which we'll call event **A**), and a coin-toss of *heads* (which we'll call event **B**)\n",
        "\n",
        "Our formula for combined independent events is:\n",
        "\n",
        "\\begin{equation}P(A \\cap B) = P(A) \\times P(B) \\end{equation}\n",
        "\n",
        "The probablilty of rolling a *6* on a fair die is <sup>1</sup>/<sub>6</sub> or 0.167;  and the probability of tossing a coin and getting *heads* is <sup>1</sup>/<sub>2</sub> or 0.5:\n",
        "\n",
        "\\begin{equation}P(A \\cap B) = 0.167 \\times 0.5 = 0.083 \\end{equation}\n",
        "\n",
        "So on each turn, there's an 8.3% chance to win the game."
      ]
    },
    {
      "cell_type": "markdown",
      "metadata": {
        "id": "45rRFyh7MJbs",
        "colab_type": "text"
      },
      "source": [
        "#17. Write a Python code that calculates when you know you get 6 from your first rolling-dice, how much you would increase your winning probability from 0.083"
      ]
    },
    {
      "cell_type": "code",
      "metadata": {
        "id": "6VU3R92gLFwY",
        "colab_type": "code",
        "outputId": "871e80b4-18a0-4230-fdbe-81c6a6613abe",
        "colab": {
          "base_uri": "https://localhost:8080/",
          "height": 94
        }
      },
      "source": [
        "#Your code should appear here. \n",
        "# 0.083 -> 0.5 (your result should return 0.417)\n",
        "\n",
        "trial = 50000\n",
        "case1 = 0\n",
        "\n",
        "for i in range(trial):\n",
        "  coin = random.randint(0,1)\n",
        "  dice = random.randint(1,6)\n",
        "  if coin == 0 and dice == 6:\n",
        "    case1 = case1 + 1\n",
        "\n",
        "case2 = 0\n",
        "\n",
        "for i in range(trial):\n",
        "  coin = random.randint(0,1)\n",
        "  dice = 6\n",
        "  if coin == 1 and dice == 6:\n",
        "    case2 = case2 + 1\n",
        "\n",
        "P1 = case1 / trial\n",
        "P2 = case2 / trial\n",
        "print(\"Probability of coin = 0 and dice = 6 :\",P1)\n",
        "print(\"Probability of coin = 0 :\",P2)\n",
        "\n",
        "print()\n",
        "print(\"increased winning probability :\",P2-P1)"
      ],
      "execution_count": 232,
      "outputs": [
        {
          "output_type": "stream",
          "text": [
            "Probability of coin = 0 and dice = 6 : 0.08224\n",
            "Probability of coin = 0 : 0.4998\n",
            "\n",
            "increased winning probability : 0.41756000000000004\n"
          ],
          "name": "stdout"
        }
      ]
    },
    {
      "cell_type": "markdown",
      "metadata": {
        "id": "KTwdbWWPNhv7",
        "colab_type": "text"
      },
      "source": [
        "\n",
        "\n",
        "---\n",
        "\n"
      ]
    },
    {
      "cell_type": "markdown",
      "metadata": {
        "id": "uON9ba27NjOK",
        "colab_type": "text"
      },
      "source": [
        "As the final question, the following table contains the different age group peoples who have defaulted and not defaulted on Loans: \n",
        "![Table1](https://miro.medium.com/max/1400/0*L4XpVZ-5jaHBrl3p.png)\n",
        "\n",
        "#18-1. Write a Python code to calculate the probability that a person will not default on the loan given s/he is middle aged? \n",
        "\n",
        "#18-2. Write a Python code to calculate the probability that a person is middle-aged given s/he has not defaulted on the loan? "
      ]
    },
    {
      "cell_type": "code",
      "metadata": {
        "id": "4dkMmv2tNgVy",
        "colab_type": "code",
        "outputId": "7140083a-d6d5-4e15-94d7-25e9cda037b8",
        "colab": {
          "base_uri": "https://localhost:8080/",
          "height": 55
        }
      },
      "source": [
        "#Your code of 18-1 should appear here\n",
        "#Single hot-coding example (bad habit)\n",
        "\n",
        "val = 27368/32219\n",
        "print(val)\n",
        "\n",
        "MiddleAged_notdefaulted = 27368\n",
        "MiddleAged_defaulted = 4851\n",
        "Total_MiiddleAged = MiddleAged_defaulted + MiddleAged_notdefaulted\n",
        "\n",
        "Probability_notdefaulted = MiddleAged_notdefaulted / Total_MiiddleAged\n",
        "print(\"The probability that a person is middle-aged given s/he has not defaulted on the loan :\",Probability_notdefaulted)"
      ],
      "execution_count": 233,
      "outputs": [
        {
          "output_type": "stream",
          "text": [
            "0.8494366678047115\n",
            "The probability that a person is middle-aged given s/he has not defaulted on the loan : 0.8494366678047115\n"
          ],
          "name": "stdout"
        }
      ]
    },
    {
      "cell_type": "code",
      "metadata": {
        "id": "fYl0jUqIOY3D",
        "colab_type": "code",
        "outputId": "1406560f-2dc5-4684-8386-7f8dea4d7e68",
        "colab": {
          "base_uri": "https://localhost:8080/",
          "height": 36
        }
      },
      "source": [
        "#Your code of 18-2 should appear here\n",
        "\n",
        "Young_notdefaulted = 3586\n",
        "MiddleAged_notdefaulted = 4851\n",
        "SeniorCitizens_notdefaulted = 120\n",
        "Total_notdefaulted = Young_notdefaulted + MiddleAged_notdefaulted + SeniorCitizens_notdefaulted\n",
        "\n",
        "Probability_MiddleAged = MiddleAged_notdefaulted / Total_notdefaulted\n",
        "print(\"the probability that a person is middle-aged given s/he has not defaulted on the loan :\",Probability_MiddleAged)"
      ],
      "execution_count": 234,
      "outputs": [
        {
          "output_type": "stream",
          "text": [
            "the probability that a person is middle-aged given s/he has not defaulted on the loan : 0.566904288886292\n"
          ],
          "name": "stdout"
        }
      ]
    },
    {
      "cell_type": "code",
      "metadata": {
        "id": "7TjMGRRpPqKF",
        "colab_type": "code",
        "colab": {}
      },
      "source": [
        ""
      ],
      "execution_count": 0,
      "outputs": []
    }
  ]
}
{
  "nbformat": 4,
  "nbformat_minor": 0,
  "metadata": {
    "colab": {
      "name": "Dohyeon Kim_Assignment_5.ipynb",
      "provenance": [],
      "authorship_tag": "ABX9TyMMCKVHTtXK98jnMPqv6gkk",
      "include_colab_link": true
    },
    "kernelspec": {
      "name": "python3",
      "display_name": "Python 3"
    }
  },
  "cells": [
    {
      "cell_type": "markdown",
      "metadata": {
        "id": "view-in-github",
        "colab_type": "text"
      },
      "source": [
        "<a href=\"https://colab.research.google.com/github/Dohyeon-Kim1/Python-I/blob/master/Dohyeon_Kim_Assignment_5.ipynb\" target=\"_parent\"><img src=\"https://colab.research.google.com/assets/colab-badge.svg\" alt=\"Open In Colab\"/></a>"
      ]
    },
    {
      "cell_type": "code",
      "metadata": {
        "id": "jGRqr3aU69GF",
        "colab_type": "code",
        "colab": {}
      },
      "source": [
        "# 1\n",
        "\n",
        "import matplotlib.pyplot as plt\n",
        "%matplotlib inline "
      ],
      "execution_count": 0,
      "outputs": []
    },
    {
      "cell_type": "code",
      "metadata": {
        "id": "Ljvw3lBq7C_W",
        "colab_type": "code",
        "colab": {}
      },
      "source": [
        "class Rectangle(object):\n",
        "\n",
        "  def __init__(self, width, height, color):\n",
        "    self.width = width\n",
        "    self.height = height\n",
        "    self.color = color \n",
        "  \n",
        "  def drawRectangle(self):\n",
        "    plt.gca().add_patch(plt.Rectangle((0,0), self.width, self.height, fc = self.color))\n",
        "    plt.axis('scaled')\n",
        "    plt.show()\n",
        "\n",
        "  def change_width(self, changed_width):\n",
        "    self.width = changed_width\n",
        "    return(print(\"changed width: \",self.width))\n",
        "\n",
        "  def change_height(self, changed_height):\n",
        "    self.height = changed_height\n",
        "    return(print(\"changed height: \",self.height))\n",
        "\n",
        "  def change_color(self, changed_color):\n",
        "    self.color = changed_color\n",
        "    return(print(\"changed color: \",self.color))"
      ],
      "execution_count": 0,
      "outputs": []
    },
    {
      "cell_type": "code",
      "metadata": {
        "id": "BRKSJGiV7Gc2",
        "colab_type": "code",
        "colab": {}
      },
      "source": [
        "Example_Rectangle = Rectangle(4, 9, 'red')"
      ],
      "execution_count": 0,
      "outputs": []
    },
    {
      "cell_type": "code",
      "metadata": {
        "id": "Fxrhk4e-7K_B",
        "colab_type": "code",
        "outputId": "499e279d-4508-41ba-d70f-3ac8597d43e1",
        "colab": {
          "base_uri": "https://localhost:8080/",
          "height": 265
        }
      },
      "source": [
        "Example_Rectangle.drawRectangle()"
      ],
      "execution_count": 56,
      "outputs": [
        {
          "output_type": "display_data",
          "data": {
            "image/png": "[encoded data removed]",
            "text/plain": [
              "<Figure size 432x288 with 1 Axes>"
            ]
          },
          "metadata": {
            "tags": [],
            "needs_background": "light"
          }
        }
      ]
    },
    {
      "cell_type": "code",
      "metadata": {
        "id": "nW-3Pquy7Nns",
        "colab_type": "code",
        "outputId": "d6ca9231-3259-42d4-a5f8-ea92c6484ff6",
        "colab": {
          "base_uri": "https://localhost:8080/",
          "height": 36
        }
      },
      "source": [
        "Example_Rectangle.change_width(10)"
      ],
      "execution_count": 57,
      "outputs": [
        {
          "output_type": "stream",
          "text": [
            "changed width:  10\n"
          ],
          "name": "stdout"
        }
      ]
    },
    {
      "cell_type": "code",
      "metadata": {
        "id": "WIWHKuUm7TDs",
        "colab_type": "code",
        "outputId": "f963863c-ff30-4664-f3a9-d4c6a2502303",
        "colab": {
          "base_uri": "https://localhost:8080/",
          "height": 36
        }
      },
      "source": [
        "Example_Rectangle.change_height(5)"
      ],
      "execution_count": 58,
      "outputs": [
        {
          "output_type": "stream",
          "text": [
            "changed height:  5\n"
          ],
          "name": "stdout"
        }
      ]
    },
    {
      "cell_type": "code",
      "metadata": {
        "id": "W2f_aSHkDawx",
        "colab_type": "code",
        "outputId": "9cd80268-8a14-4da4-fc94-bb6cdeafb45b",
        "colab": {
          "base_uri": "https://localhost:8080/",
          "height": 36
        }
      },
      "source": [
        "Example_Rectangle.change_color('blue')"
      ],
      "execution_count": 59,
      "outputs": [
        {
          "output_type": "stream",
          "text": [
            "changed color:  blue\n"
          ],
          "name": "stdout"
        }
      ]
    },
    {
      "cell_type": "code",
      "metadata": {
        "id": "7j8ycwiIDd8D",
        "colab_type": "code",
        "outputId": "13c70f31-1111-4d46-f926-e427066b2c79",
        "colab": {
          "base_uri": "https://localhost:8080/",
          "height": 215
        }
      },
      "source": [
        "Example_Rectangle.drawRectangle()"
      ],
      "execution_count": 60,
      "outputs": [
        {
          "output_type": "display_data",
          "data": {
            "image/png": "[encoded data removed]",
            "text/plain": [
              "<Figure size 432x288 with 1 Axes>"
            ]
          },
          "metadata": {
            "tags": [],
            "needs_background": "light"
          }
        }
      ]
    },
    {
      "cell_type": "code",
      "metadata": {
        "id": "KQ5cScaZDhhK",
        "colab_type": "code",
        "outputId": "7e455d65-6cb5-418e-9881-c427bb950c3f",
        "colab": {
          "base_uri": "https://localhost:8080/",
          "height": 36
        }
      },
      "source": [
        "# 2\n",
        "\n",
        "from google.colab import drive\n",
        "drive.mount('/content/gdrive')"
      ],
      "execution_count": 61,
      "outputs": [
        {
          "output_type": "stream",
          "text": [
            "Drive already mounted at /content/gdrive; to attempt to forcibly remount, call drive.mount(\"/content/gdrive\", force_remount=True).\n"
          ],
          "name": "stdout"
        }
      ]
    },
    {
      "cell_type": "code",
      "metadata": {
        "id": "WJSRKJUhZryW",
        "colab_type": "code",
        "colab": {}
      },
      "source": [
        "with open('/content/gdrive/My Drive/Example_Circle.txt', 'w') as WriteFile1:\n",
        "  WriteFile1.write(\"Circle(3,'red')\\nCircle(5,'blue')\\nCircle(7,'yellow')\")"
      ],
      "execution_count": 0,
      "outputs": []
    },
    {
      "cell_type": "code",
      "metadata": {
        "id": "2N3sjk-9aE9J",
        "colab_type": "code",
        "colab": {}
      },
      "source": [
        "with open('/content/gdrive/My Drive/Example_Rectangle.txt', 'w') as WriteFile2:\n",
        "  WriteFile2.write(\"Rectangle(2, 3, 'red')\\nRectangle(4, 3, 'blue')\\nRectangle(5, 7, 'yellow')\")"
      ],
      "execution_count": 0,
      "outputs": []
    },
    {
      "cell_type": "code",
      "metadata": {
        "id": "L7nUOxllaRZH",
        "colab_type": "code",
        "outputId": "a2fcfeae-dc13-42a0-aeea-7bbc4f4646b1",
        "colab": {
          "base_uri": "https://localhost:8080/",
          "height": 76
        }
      },
      "source": [
        "with open('/content/gdrive/My Drive/Example_Circle.txt', 'r') as ReadFile1:\n",
        "  print(ReadFile1.read())"
      ],
      "execution_count": 64,
      "outputs": [
        {
          "output_type": "stream",
          "text": [
            "Circle(3,'red')\n",
            "Circle(5,'blue')\n",
            "Circle(7,'yellow')\n"
          ],
          "name": "stdout"
        }
      ]
    },
    {
      "cell_type": "code",
      "metadata": {
        "id": "rQGiqfz1alfS",
        "colab_type": "code",
        "outputId": "da3f8529-57ad-45f8-d23f-39a3a79518aa",
        "colab": {
          "base_uri": "https://localhost:8080/",
          "height": 76
        }
      },
      "source": [
        "with open('/content/gdrive/My Drive/Example_Rectangle.txt', 'r') as ReadFile2:\n",
        "  print(ReadFile2.read())"
      ],
      "execution_count": 65,
      "outputs": [
        {
          "output_type": "stream",
          "text": [
            "Rectangle(2, 3, 'red')\n",
            "Rectangle(4, 3, 'blue')\n",
            "Rectangle(5, 7, 'yellow')\n"
          ],
          "name": "stdout"
        }
      ]
    },
    {
      "cell_type": "code",
      "metadata": {
        "id": "vAsf0yjQas4_",
        "colab_type": "code",
        "colab": {}
      },
      "source": [
        "class Circle(object):\n",
        "\n",
        "  def __init__(self, radius, color):\n",
        "    self.radius = radius\n",
        "    self.color = color \n",
        "\n",
        "  def add_radium(self, r):\n",
        "    self.radius = self.radius + r \n",
        "    return(self.radius)\n",
        "  \n",
        "  def drawCircle(self):\n",
        "    plt.gca().add_patch(plt.Circle((0,0), radius = self.radius, fc = self.color))\n",
        "    plt.axis('scaled')\n",
        "    plt.show()"
      ],
      "execution_count": 0,
      "outputs": []
    },
    {
      "cell_type": "code",
      "metadata": {
        "id": "_7UYT4tIbw9A",
        "colab_type": "code",
        "colab": {}
      },
      "source": [
        "class Rectangle(object):\n",
        "\n",
        "  def __init__(self, width, height, color):\n",
        "    self.width = width\n",
        "    self.height = height\n",
        "    self.color = color \n",
        "  \n",
        "  def drawRectangle(self):\n",
        "    plt.gca().add_patch(plt.Rectangle((0,0), self.width, self.height, fc = self.color))\n",
        "    plt.axis('scaled')\n",
        "    plt.show()\n",
        "\n",
        "  def change_width(self, changed_width):\n",
        "    self.width = changed_width\n",
        "    return(print(\"changed width: \",self.width))\n",
        "\n",
        "  def change_height(self, changed_height):\n",
        "    self.height = changed_height\n",
        "    return(print(\"changed height: \",self.height))\n",
        "\n",
        "  def change_color(self, changed_color):\n",
        "    self.color = changed_color\n",
        "    return(print(\"changed color: \",self.color))"
      ],
      "execution_count": 0,
      "outputs": []
    },
    {
      "cell_type": "code",
      "metadata": {
        "id": "kcDAKIVfb0c3",
        "colab_type": "code",
        "colab": {}
      },
      "source": [
        "Circle_Exmaple1 = Circle(3,'red')\n",
        "Circle_Example2 = Circle(5,'blue')\n",
        "Circle_Example3 = Circle(7,'yellow')\n",
        "\n",
        "Rectangle_Example1 = Rectangle(2, 3, 'red')\n",
        "Rectangle_Example2 = Rectangle(4, 3, 'blue')\n",
        "Rectangle_Example3 = Rectangle(5, 7, 'yellow')"
      ],
      "execution_count": 0,
      "outputs": []
    },
    {
      "cell_type": "code",
      "metadata": {
        "id": "xq7IKg6ecwuZ",
        "colab_type": "code",
        "outputId": "6dea878c-b459-4fbd-b7f8-a029bb60006a",
        "colab": {
          "base_uri": "https://localhost:8080/",
          "height": 36
        }
      },
      "source": [
        "Circle_Exmaple1.add_radium(1)"
      ],
      "execution_count": 69,
      "outputs": [
        {
          "output_type": "execute_result",
          "data": {
            "text/plain": [
              "4"
            ]
          },
          "metadata": {
            "tags": []
          },
          "execution_count": 69
        }
      ]
    },
    {
      "cell_type": "code",
      "metadata": {
        "id": "YslgjwPMc0v3",
        "colab_type": "code",
        "outputId": "cb49fc83-bf7e-44b3-e4a7-081499b5846a",
        "colab": {
          "base_uri": "https://localhost:8080/",
          "height": 36
        }
      },
      "source": [
        "Circle_Example2.add_radium(2)"
      ],
      "execution_count": 70,
      "outputs": [
        {
          "output_type": "execute_result",
          "data": {
            "text/plain": [
              "7"
            ]
          },
          "metadata": {
            "tags": []
          },
          "execution_count": 70
        }
      ]
    },
    {
      "cell_type": "code",
      "metadata": {
        "id": "QUN2Rsysc3Wb",
        "colab_type": "code",
        "outputId": "59e4b96d-4e1f-41f8-a670-348aab968246",
        "colab": {
          "base_uri": "https://localhost:8080/",
          "height": 36
        }
      },
      "source": [
        "Circle_Example3.add_radium(3)"
      ],
      "execution_count": 71,
      "outputs": [
        {
          "output_type": "execute_result",
          "data": {
            "text/plain": [
              "10"
            ]
          },
          "metadata": {
            "tags": []
          },
          "execution_count": 71
        }
      ]
    },
    {
      "cell_type": "code",
      "metadata": {
        "id": "vM88pcaLdGUf",
        "colab_type": "code",
        "outputId": "fc65a0b1-8eb7-48b3-c90a-b04223109308",
        "colab": {
          "base_uri": "https://localhost:8080/",
          "height": 36
        }
      },
      "source": [
        "Rectangle_Example1.change_width(1)"
      ],
      "execution_count": 72,
      "outputs": [
        {
          "output_type": "stream",
          "text": [
            "changed width:  1\n"
          ],
          "name": "stdout"
        }
      ]
    },
    {
      "cell_type": "code",
      "metadata": {
        "id": "lTrwvOrydL1-",
        "colab_type": "code",
        "outputId": "c2474430-ec72-4bfc-865d-1da70e5e6083",
        "colab": {
          "base_uri": "https://localhost:8080/",
          "height": 36
        }
      },
      "source": [
        "Rectangle_Example2.change_height(2)"
      ],
      "execution_count": 73,
      "outputs": [
        {
          "output_type": "stream",
          "text": [
            "changed height:  2\n"
          ],
          "name": "stdout"
        }
      ]
    },
    {
      "cell_type": "code",
      "metadata": {
        "id": "XnSz_1sVdO1E",
        "colab_type": "code",
        "outputId": "32225246-fa53-429d-c518-da979f27cb5b",
        "colab": {
          "base_uri": "https://localhost:8080/",
          "height": 36
        }
      },
      "source": [
        "Rectangle_Example3.change_color('green')"
      ],
      "execution_count": 74,
      "outputs": [
        {
          "output_type": "stream",
          "text": [
            "changed color:  green\n"
          ],
          "name": "stdout"
        }
      ]
    },
    {
      "cell_type": "code",
      "metadata": {
        "id": "V4RZG0CldT3v",
        "colab_type": "code",
        "colab": {}
      },
      "source": [
        "# 3\n",
        "\n",
        "from math import pi\n",
        "\n",
        "class Circle(object):\n",
        "\n",
        "  def __init__(self, radius, color):\n",
        "    self.radius = radius\n",
        "    self.color = color \n",
        "\n",
        "  def add_radium(self, r):\n",
        "    self.radius = self.radius + r \n",
        "    return(self.radius)\n",
        "  \n",
        "  def drawCircle(self):\n",
        "    plt.gca().add_patch(plt.Circle((0,0), radius = self.radius, fc = self.color))\n",
        "    plt.axis('scaled')\n",
        "    plt.show()\n",
        "\n",
        "  def Circle_size(self):\n",
        "    size = self.radius**2*pi\n",
        "    return(print('Size: ',size))"
      ],
      "execution_count": 0,
      "outputs": []
    },
    {
      "cell_type": "code",
      "metadata": {
        "id": "1I8aEhh0ozWw",
        "colab_type": "code",
        "colab": {}
      },
      "source": [
        "class Rectangle(object):\n",
        "\n",
        "  def __init__(self, width, height, color):\n",
        "    self.width = width\n",
        "    self.height = height\n",
        "    self.color = color \n",
        "  \n",
        "  def drawRectangle(self):\n",
        "    plt.gca().add_patch(plt.Rectangle((0,0), self.width, self.height, fc = self.color))\n",
        "    plt.axis('scaled')\n",
        "    plt.show()\n",
        "\n",
        "  def change_width(self, changed_width):\n",
        "    self.width = changed_width\n",
        "    return(print(\"changed width: \",self.width))\n",
        "\n",
        "  def change_height(self, changed_height):\n",
        "    self.height = changed_height\n",
        "    return(print(\"changed height: \",self.height))\n",
        "    \n",
        "  def change_color(self, changed_color):\n",
        "    self.color = changed_color\n",
        "    return(print(\"changed color: \",self.color))\n",
        "\n",
        "  def Rectangle_size(self):\n",
        "    size = self.width * self.height\n",
        "    return(print('Size: ',size))"
      ],
      "execution_count": 0,
      "outputs": []
    },
    {
      "cell_type": "code",
      "metadata": {
        "id": "7flELyXepCtt",
        "colab_type": "code",
        "colab": {}
      },
      "source": [
        "Circle_Exmaple1 = Circle(3,'red')\n",
        "Circle_Example2 = Circle(5,'blue')\n",
        "Circle_Example3 = Circle(7,'yellow')\n",
        "\n",
        "Rectangle_Example1 = Rectangle(2, 3, 'red')\n",
        "Rectangle_Example2 = Rectangle(4, 3, 'blue')\n",
        "Rectangle_Example3 = Rectangle(5, 7, 'yellow')"
      ],
      "execution_count": 0,
      "outputs": []
    },
    {
      "cell_type": "code",
      "metadata": {
        "id": "WkE0A6D-pF6C",
        "colab_type": "code",
        "colab": {
          "base_uri": "https://localhost:8080/",
          "height": 36
        },
        "outputId": "c1896804-fc64-47d1-a9ae-0b73f8b08f37"
      },
      "source": [
        "Circle_Exmaple1.Circle_size()"
      ],
      "execution_count": 78,
      "outputs": [
        {
          "output_type": "stream",
          "text": [
            "Size:  28.274333882308138\n"
          ],
          "name": "stdout"
        }
      ]
    },
    {
      "cell_type": "code",
      "metadata": {
        "id": "938VD7DqpK01",
        "colab_type": "code",
        "colab": {
          "base_uri": "https://localhost:8080/",
          "height": 36
        },
        "outputId": "d1a4db14-3ca9-420c-a17c-cafa4236e332"
      },
      "source": [
        "Circle_Example2.Circle_size()"
      ],
      "execution_count": 79,
      "outputs": [
        {
          "output_type": "stream",
          "text": [
            "Size:  78.53981633974483\n"
          ],
          "name": "stdout"
        }
      ]
    },
    {
      "cell_type": "code",
      "metadata": {
        "id": "XW4uIglSpOe6",
        "colab_type": "code",
        "colab": {
          "base_uri": "https://localhost:8080/",
          "height": 36
        },
        "outputId": "2bbfda13-8b65-478e-e2c7-df84ca04b461"
      },
      "source": [
        "Circle_Example3.Circle_size()"
      ],
      "execution_count": 80,
      "outputs": [
        {
          "output_type": "stream",
          "text": [
            "Size:  153.93804002589985\n"
          ],
          "name": "stdout"
        }
      ]
    },
    {
      "cell_type": "code",
      "metadata": {
        "id": "ts_GHKSCpZuJ",
        "colab_type": "code",
        "colab": {
          "base_uri": "https://localhost:8080/",
          "height": 36
        },
        "outputId": "d0a2accf-206d-4914-90d7-81cddf42fea5"
      },
      "source": [
        "Rectangle_Example1.Rectangle_size()"
      ],
      "execution_count": 81,
      "outputs": [
        {
          "output_type": "stream",
          "text": [
            "Size:  6\n"
          ],
          "name": "stdout"
        }
      ]
    },
    {
      "cell_type": "code",
      "metadata": {
        "id": "y4HrDewRpc75",
        "colab_type": "code",
        "colab": {
          "base_uri": "https://localhost:8080/",
          "height": 36
        },
        "outputId": "e43b09a8-585d-4d5c-d7d7-191386c98bf8"
      },
      "source": [
        "Rectangle_Example2.Rectangle_size()"
      ],
      "execution_count": 82,
      "outputs": [
        {
          "output_type": "stream",
          "text": [
            "Size:  12\n"
          ],
          "name": "stdout"
        }
      ]
    },
    {
      "cell_type": "code",
      "metadata": {
        "id": "fKXtjU_gpgTA",
        "colab_type": "code",
        "colab": {
          "base_uri": "https://localhost:8080/",
          "height": 36
        },
        "outputId": "d7ba82d9-eae2-46b1-d53e-fbe0bdf58b43"
      },
      "source": [
        "Rectangle_Example3.Rectangle_size()"
      ],
      "execution_count": 83,
      "outputs": [
        {
          "output_type": "stream",
          "text": [
            "Size:  35\n"
          ],
          "name": "stdout"
        }
      ]
    },
    {
      "cell_type": "code",
      "metadata": {
        "id": "BV3mGr_hpijx",
        "colab_type": "code",
        "colab": {}
      },
      "source": [
        ""
      ],
      "execution_count": 0,
      "outputs": []
    }
  ]
}
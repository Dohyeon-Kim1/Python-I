{
  "nbformat": 4,
  "nbformat_minor": 0,
  "metadata": {
    "colab": {
      "name": "Dohyeon Kim_Assignment_2.ipynb",
      "provenance": [],
      "collapsed_sections": [],
      "authorship_tag": "ABX9TyMFFyqpK/Rq11LvsmIQFmuj",
      "include_colab_link": true
    },
    "kernelspec": {
      "name": "python3",
      "display_name": "Python 3"
    }
  },
  "cells": [
    {
      "cell_type": "markdown",
      "metadata": {
        "id": "view-in-github",
        "colab_type": "text"
      },
      "source": [
        "<a href=\"https://colab.research.google.com/github/Dohyeon-Kim1/Python-I/blob/master/Dohyeon_Kim_Assignment_2.ipynb\" target=\"_parent\"><img src=\"https://colab.research.google.com/assets/colab-badge.svg\" alt=\"Open In Colab\"/></a>"
      ]
    },
    {
      "cell_type": "code",
      "metadata": {
        "id": "2sikoBYa0L4-",
        "colab_type": "code",
        "colab": {}
      },
      "source": [
        "# 1\n",
        "\n",
        "Name = \"Dohyeon Kim\"\n",
        "State = \"likes\"\n",
        "Food = \"chiken\""
      ],
      "execution_count": 0,
      "outputs": []
    },
    {
      "cell_type": "code",
      "metadata": {
        "id": "Yj0CclqQ1mhh",
        "colab_type": "code",
        "outputId": "d7b6507c-fecd-4e96-fa3d-f09a2f0eb9e5",
        "colab": {
          "base_uri": "https://localhost:8080/",
          "height": 52
        }
      },
      "source": [
        "print(Name.lower())\n",
        "print(Name.upper())"
      ],
      "execution_count": 0,
      "outputs": [
        {
          "output_type": "stream",
          "text": [
            "dohyeon kim\n",
            "DOHYEON KIM\n"
          ],
          "name": "stdout"
        }
      ]
    },
    {
      "cell_type": "code",
      "metadata": {
        "id": "0h6Q_T9q2TT4",
        "colab_type": "code",
        "outputId": "8a45e530-3b7b-42d7-88b1-2e9f2a26c8c4",
        "colab": {
          "base_uri": "https://localhost:8080/",
          "height": 34
        }
      },
      "source": [
        "print(\"My name : \\t\",Name.upper())"
      ],
      "execution_count": 0,
      "outputs": [
        {
          "output_type": "stream",
          "text": [
            "My name : \t DOHYEON KIM\n"
          ],
          "name": "stdout"
        }
      ]
    },
    {
      "cell_type": "code",
      "metadata": {
        "id": "rnde4gUJ3E0S",
        "colab_type": "code",
        "outputId": "f4400f6c-3a82-45d3-ee07-670c326e5a96",
        "colab": {
          "base_uri": "https://localhost:8080/",
          "height": 105
        }
      },
      "source": [
        "print(Name.find(' '))\n",
        "print(Name.find('d'))\n",
        "print(Name.find('D'))\n",
        "print(Name.find('hy'))\n",
        "print(Name.find('Dohyeon Kim'))"
      ],
      "execution_count": 0,
      "outputs": [
        {
          "output_type": "stream",
          "text": [
            "7\n",
            "-1\n",
            "0\n",
            "2\n",
            "0\n"
          ],
          "name": "stdout"
        }
      ]
    },
    {
      "cell_type": "code",
      "metadata": {
        "id": "D_Sr3cXj3-eh",
        "colab_type": "code",
        "outputId": "3e196209-575f-403d-a237-17a04b16bd40",
        "colab": {
          "base_uri": "https://localhost:8080/",
          "height": 34
        }
      },
      "source": [
        "print(Name + ' ' + State + ' ' + 'a ' + Food)"
      ],
      "execution_count": 0,
      "outputs": [
        {
          "output_type": "stream",
          "text": [
            "Dohyeon Kim likes a chiken\n"
          ],
          "name": "stdout"
        }
      ]
    },
    {
      "cell_type": "code",
      "metadata": {
        "id": "OzF9H6bt48L_",
        "colab_type": "code",
        "outputId": "81f6178e-cfd5-4d38-efe1-24cded07ad4d",
        "colab": {
          "base_uri": "https://localhost:8080/",
          "height": 34
        }
      },
      "source": [
        "Food.replace('chiken','pizza')"
      ],
      "execution_count": 0,
      "outputs": [
        {
          "output_type": "execute_result",
          "data": {
            "text/plain": [
              "'pizza'"
            ]
          },
          "metadata": {
            "tags": []
          },
          "execution_count": 16
        }
      ]
    },
    {
      "cell_type": "code",
      "metadata": {
        "id": "R28GzZNx52mr",
        "colab_type": "code",
        "outputId": "c0d7ddc7-ece8-457a-f077-d86a40e82336",
        "colab": {
          "base_uri": "https://localhost:8080/",
          "height": 34
        }
      },
      "source": [
        "Food.replace('chiken','pizza').find('z')"
      ],
      "execution_count": 0,
      "outputs": [
        {
          "output_type": "execute_result",
          "data": {
            "text/plain": [
              "2"
            ]
          },
          "metadata": {
            "tags": []
          },
          "execution_count": 17
        }
      ]
    },
    {
      "cell_type": "code",
      "metadata": {
        "id": "4fK7Or4h57pb",
        "colab_type": "code",
        "outputId": "af660fb1-70a5-464b-e441-e201da292003",
        "colab": {
          "base_uri": "https://localhost:8080/",
          "height": 34
        }
      },
      "source": [
        "print(Name + ' ' + State + ' ' + 'a ' + Food.replace('chiken','pizza'))"
      ],
      "execution_count": 0,
      "outputs": [
        {
          "output_type": "stream",
          "text": [
            "Dohyeon Kim likes a pizza\n"
          ],
          "name": "stdout"
        }
      ]
    },
    {
      "cell_type": "code",
      "metadata": {
        "id": "blHaGjzL6GXZ",
        "colab_type": "code",
        "outputId": "5d2b6a7f-8ec8-4678-dcd1-8e66859073a3",
        "colab": {
          "base_uri": "https://localhost:8080/",
          "height": 34
        }
      },
      "source": [
        "Food.upper().replace('chiken','pizza')"
      ],
      "execution_count": 0,
      "outputs": [
        {
          "output_type": "execute_result",
          "data": {
            "text/plain": [
              "'CHIKEN'"
            ]
          },
          "metadata": {
            "tags": []
          },
          "execution_count": 19
        }
      ]
    },
    {
      "cell_type": "code",
      "metadata": {
        "id": "12HE_XtT6pXx",
        "colab_type": "code",
        "outputId": "c7253c4d-4383-462d-f8c1-feb5f1b03d69",
        "colab": {
          "base_uri": "https://localhost:8080/",
          "height": 52
        }
      },
      "source": [
        "Str = \"abababab\"\n",
        "print(Str.replace('ab','cd'))\n",
        "print(Str.replace('aba','cdc'))"
      ],
      "execution_count": 0,
      "outputs": [
        {
          "output_type": "stream",
          "text": [
            "cdcdcdcd\n",
            "cdcbcdcb\n"
          ],
          "name": "stdout"
        }
      ]
    },
    {
      "cell_type": "code",
      "metadata": {
        "id": "9BAKZPZY7R3y",
        "colab_type": "code",
        "outputId": "af482997-5bd0-4027-a9ad-f4432ca5f6c0",
        "colab": {
          "base_uri": "https://localhost:8080/",
          "height": 34
        }
      },
      "source": [
        "Food.join(Name)"
      ],
      "execution_count": 0,
      "outputs": [
        {
          "output_type": "execute_result",
          "data": {
            "text/plain": [
              "'Dchikenochikenhchikenychikenechikenochikennchiken chikenKchikenichikenm'"
            ]
          },
          "metadata": {
            "tags": []
          },
          "execution_count": 24
        }
      ]
    },
    {
      "cell_type": "code",
      "metadata": {
        "id": "cKm9c1Nv7m6_",
        "colab_type": "code",
        "outputId": "a6b92d6f-f882-422f-b3c6-4e1fb830060d",
        "colab": {
          "base_uri": "https://localhost:8080/",
          "height": 34
        }
      },
      "source": [
        "Str2 = \"00\"\n",
        "Str2.join('12345')"
      ],
      "execution_count": 0,
      "outputs": [
        {
          "output_type": "execute_result",
          "data": {
            "text/plain": [
              "'1002003004005'"
            ]
          },
          "metadata": {
            "tags": []
          },
          "execution_count": 25
        }
      ]
    },
    {
      "cell_type": "code",
      "metadata": {
        "id": "P1j-LwDy8yoY",
        "colab_type": "code",
        "outputId": "f88c6c57-e75f-4cf7-8718-325639cede4e",
        "colab": {
          "base_uri": "https://localhost:8080/",
          "height": 34
        }
      },
      "source": [
        "'12345'.join(Str2)"
      ],
      "execution_count": 0,
      "outputs": [
        {
          "output_type": "execute_result",
          "data": {
            "text/plain": [
              "'0123450'"
            ]
          },
          "metadata": {
            "tags": []
          },
          "execution_count": 26
        }
      ]
    },
    {
      "cell_type": "code",
      "metadata": {
        "id": "Zlgu7Qyq9DQV",
        "colab_type": "code",
        "outputId": "777edbd0-d3d0-48c1-b1f1-289858341a87",
        "colab": {
          "base_uri": "https://localhost:8080/",
          "height": 34
        }
      },
      "source": [
        "Str.split('a',4)"
      ],
      "execution_count": 0,
      "outputs": [
        {
          "output_type": "execute_result",
          "data": {
            "text/plain": [
              "['', 'b', 'b', 'b', 'b']"
            ]
          },
          "metadata": {
            "tags": []
          },
          "execution_count": 37
        }
      ]
    },
    {
      "cell_type": "code",
      "metadata": {
        "id": "0F2RJhKA9emU",
        "colab_type": "code",
        "outputId": "e3325d43-8cd4-48d0-f43b-d8256b4ef613",
        "colab": {
          "base_uri": "https://localhost:8080/",
          "height": 105
        }
      },
      "source": [
        "print(Str.split('a',5))\n",
        "print(Str.split('a',3))\n",
        "print(Str.split('a',2))\n",
        "print(Str.split('a',1))\n",
        "print(Str.split('a',0))"
      ],
      "execution_count": 0,
      "outputs": [
        {
          "output_type": "stream",
          "text": [
            "['', 'b', 'b', 'b', 'b']\n",
            "['', 'b', 'b', 'bab']\n",
            "['', 'b', 'babab']\n",
            "['', 'bababab']\n",
            "['abababab']\n"
          ],
          "name": "stdout"
        }
      ]
    },
    {
      "cell_type": "code",
      "metadata": {
        "id": "lhxgCjBE-CCU",
        "colab_type": "code",
        "colab": {}
      },
      "source": [
        "Str3 = \"abcdefg\""
      ],
      "execution_count": 0,
      "outputs": []
    },
    {
      "cell_type": "code",
      "metadata": {
        "id": "tsnwBbiD-bKJ",
        "colab_type": "code",
        "outputId": "ab22de3f-7968-453a-c6af-1ccc54ddb447",
        "colab": {
          "base_uri": "https://localhost:8080/",
          "height": 105
        }
      },
      "source": [
        "print(Str3[:])\n",
        "print(Str3[0:2])\n",
        "print(Str3[1:9])\n",
        "print(Str3[-1:3])\n",
        "print(Str3[-1:-3])"
      ],
      "execution_count": 0,
      "outputs": [
        {
          "output_type": "stream",
          "text": [
            "abcdefg\n",
            "ab\n",
            "bcdefg\n",
            "\n",
            "\n"
          ],
          "name": "stdout"
        }
      ]
    },
    {
      "cell_type": "code",
      "metadata": {
        "id": "0LZZMn4gBBf0",
        "colab_type": "code",
        "outputId": "79b49992-fec7-4140-d2a9-951f06805c5b",
        "colab": {
          "base_uri": "https://localhost:8080/",
          "height": 105
        }
      },
      "source": [
        "print(Str3[::1])\n",
        "print(Str3[::2])\n",
        "print(Str3[::3])\n",
        "print(Str3[0:2:2])\n",
        "print(Str3[0:2:3])"
      ],
      "execution_count": 0,
      "outputs": [
        {
          "output_type": "stream",
          "text": [
            "abcdefg\n",
            "aceg\n",
            "adg\n",
            "a\n",
            "a\n"
          ],
          "name": "stdout"
        }
      ]
    },
    {
      "cell_type": "code",
      "metadata": {
        "id": "PoC0UBfHBYP-",
        "colab_type": "code",
        "colab": {}
      },
      "source": [
        "# 2\n",
        "\n",
        "tuple1 = (1,'pizza',2,'chiken','3,4')\n",
        "tuple2 = (5,6,'icecream')"
      ],
      "execution_count": 0,
      "outputs": []
    },
    {
      "cell_type": "code",
      "metadata": {
        "id": "z0yNqJxrDDm8",
        "colab_type": "code",
        "outputId": "3b0b5063-2fb6-4db1-9c21-55ad20696107",
        "colab": {
          "base_uri": "https://localhost:8080/",
          "height": 34
        }
      },
      "source": [
        "tuple1 + tuple2"
      ],
      "execution_count": 0,
      "outputs": [
        {
          "output_type": "execute_result",
          "data": {
            "text/plain": [
              "(1, 'pizza', 2, 'chiken', '3,4', 5, 6, 'icecream')"
            ]
          },
          "metadata": {
            "tags": []
          },
          "execution_count": 63
        }
      ]
    },
    {
      "cell_type": "code",
      "metadata": {
        "id": "x_b1WhXPDJLy",
        "colab_type": "code",
        "outputId": "a4f27b91-9a39-49db-80e8-3e68cc9d4fa4",
        "colab": {
          "base_uri": "https://localhost:8080/",
          "height": 140
        }
      },
      "source": [
        "print(tuple1.count(1))\n",
        "print(tuple1.count('chiken'))\n",
        "print(tuple1.count(0))\n",
        "print(tuple1.count('ch'))\n",
        "print(tuple1.count(3))\n",
        "print(tuple1.count('3,4'))\n",
        "print(tuple1.count('3'))"
      ],
      "execution_count": 0,
      "outputs": [
        {
          "output_type": "stream",
          "text": [
            "1\n",
            "1\n",
            "0\n",
            "0\n",
            "0\n",
            "1\n",
            "0\n"
          ],
          "name": "stdout"
        }
      ]
    },
    {
      "cell_type": "code",
      "metadata": {
        "id": "wCLRvbQmDWSB",
        "colab_type": "code",
        "outputId": "0c0ca5ef-674b-4423-9f55-51cae6a98972",
        "colab": {
          "base_uri": "https://localhost:8080/",
          "height": 52
        }
      },
      "source": [
        "print(tuple1[:])\n",
        "print(tuple1[2:4])"
      ],
      "execution_count": 0,
      "outputs": [
        {
          "output_type": "stream",
          "text": [
            "(1, 'pizza', 2, 'chiken', '3,4')\n",
            "(2, 'chiken')\n"
          ],
          "name": "stdout"
        }
      ]
    },
    {
      "cell_type": "code",
      "metadata": {
        "id": "8kFX8LrgD4PB",
        "colab_type": "code",
        "outputId": "fbd576b8-0029-41e7-af40-df9b18d248b5",
        "colab": {
          "base_uri": "https://localhost:8080/",
          "height": 87
        }
      },
      "source": [
        "print(tuple1[::1])\n",
        "print(tuple1[::2])\n",
        "print(tuple1[1:5:2])\n",
        "print(tuple1[1:5:3])"
      ],
      "execution_count": 0,
      "outputs": [
        {
          "output_type": "stream",
          "text": [
            "(1, 'pizza', 2, 'chiken', '3,4')\n",
            "(1, 2, '3,4')\n",
            "('pizza', 'chiken')\n",
            "('pizza', '3,4')\n"
          ],
          "name": "stdout"
        }
      ]
    },
    {
      "cell_type": "code",
      "metadata": {
        "id": "UHeG4EawEOlT",
        "colab_type": "code",
        "outputId": "0e2a64a7-cdd2-43f8-938e-263c95b340ac",
        "colab": {
          "base_uri": "https://localhost:8080/",
          "height": 34
        }
      },
      "source": [
        "print(tuple1[1:5:3] + tuple2)"
      ],
      "execution_count": 0,
      "outputs": [
        {
          "output_type": "stream",
          "text": [
            "('pizza', '3,4', 5, 6, 'icecream')\n"
          ],
          "name": "stdout"
        }
      ]
    },
    {
      "cell_type": "code",
      "metadata": {
        "id": "cZ9mMDVPEWjD",
        "colab_type": "code",
        "outputId": "feb94259-f7b5-4e88-a8d7-34aa56fe906f",
        "colab": {
          "base_uri": "https://localhost:8080/",
          "height": 70
        }
      },
      "source": [
        "tuple3 = (1,2,7,5,6,9,2)\n",
        "print(sorted(tuple3))\n",
        "print(min(tuple3))\n",
        "print(max(tuple3))"
      ],
      "execution_count": 0,
      "outputs": [
        {
          "output_type": "stream",
          "text": [
            "[1, 2, 2, 5, 6, 7, 9]\n",
            "1\n",
            "9\n"
          ],
          "name": "stdout"
        }
      ]
    },
    {
      "cell_type": "code",
      "metadata": {
        "id": "24zEP9ytEnYe",
        "colab_type": "code",
        "outputId": "957f77f9-ac6e-4160-94c8-d28d395324de",
        "colab": {
          "base_uri": "https://localhost:8080/",
          "height": 70
        }
      },
      "source": [
        "tuple4 = (1.2,5.7,9,4.1)\n",
        "print(sorted(tuple4))\n",
        "print(min(tuple4))\n",
        "print(max(tuple4))"
      ],
      "execution_count": 0,
      "outputs": [
        {
          "output_type": "stream",
          "text": [
            "[1.2, 4.1, 5.7, 9]\n",
            "1.2\n",
            "9\n"
          ],
          "name": "stdout"
        }
      ]
    },
    {
      "cell_type": "code",
      "metadata": {
        "id": "BDUZ5vw_FBUB",
        "colab_type": "code",
        "colab": {}
      },
      "source": [
        "tuple_nest = (1,2,(3,4),'coke',5,(6,'coffee'),(7,('candy',8)))"
      ],
      "execution_count": 0,
      "outputs": []
    },
    {
      "cell_type": "code",
      "metadata": {
        "id": "vXmqtIxKFocb",
        "colab_type": "code",
        "outputId": "0cdc6028-0bdd-4941-d082-46af3b496afd",
        "colab": {
          "base_uri": "https://localhost:8080/",
          "height": 70
        }
      },
      "source": [
        "print(tuple_nest[1])\n",
        "print(tuple_nest[2])\n",
        "print(tuple_nest[6])"
      ],
      "execution_count": 0,
      "outputs": [
        {
          "output_type": "stream",
          "text": [
            "2\n",
            "(3, 4)\n",
            "(7, ('candy', 8))\n"
          ],
          "name": "stdout"
        }
      ]
    },
    {
      "cell_type": "code",
      "metadata": {
        "id": "31ZYel9hF0te",
        "colab_type": "code",
        "outputId": "9c28c0fe-b9bd-49d5-9cab-67cb63fa1787",
        "colab": {
          "base_uri": "https://localhost:8080/",
          "height": 52
        }
      },
      "source": [
        "print(tuple_nest[2][:])\n",
        "print(tuple_nest[2][0:1])"
      ],
      "execution_count": 0,
      "outputs": [
        {
          "output_type": "stream",
          "text": [
            "(3, 4)\n",
            "(3,)\n"
          ],
          "name": "stdout"
        }
      ]
    },
    {
      "cell_type": "code",
      "metadata": {
        "id": "6dGEBti3GTX8",
        "colab_type": "code",
        "outputId": "93d813b0-187f-48db-cebd-328668aeb4e1",
        "colab": {
          "base_uri": "https://localhost:8080/",
          "height": 52
        }
      },
      "source": [
        "print(tuple_nest[2][0:2:1])\n",
        "print(tuple_nest[2][0:2:2])"
      ],
      "execution_count": 0,
      "outputs": [
        {
          "output_type": "stream",
          "text": [
            "(3, 4)\n",
            "(3,)\n"
          ],
          "name": "stdout"
        }
      ]
    },
    {
      "cell_type": "code",
      "metadata": {
        "id": "9Dh7qyOKGaar",
        "colab_type": "code",
        "outputId": "6a0ee35b-65c0-4ef8-9941-11d28e3968c4",
        "colab": {
          "base_uri": "https://localhost:8080/",
          "height": 52
        }
      },
      "source": [
        "print(tuple_nest[6][:])\n",
        "print(tuple_nest[6][0:1])"
      ],
      "execution_count": 0,
      "outputs": [
        {
          "output_type": "stream",
          "text": [
            "(7, ('candy', 8))\n",
            "(7,)\n"
          ],
          "name": "stdout"
        }
      ]
    },
    {
      "cell_type": "code",
      "metadata": {
        "id": "7EKnWHzoGnJE",
        "colab_type": "code",
        "outputId": "8bf131d8-5467-4e9d-e95f-73cbe2191906",
        "colab": {
          "base_uri": "https://localhost:8080/",
          "height": 52
        }
      },
      "source": [
        "print(tuple_nest[6][0:2:1])\n",
        "print(tuple_nest[6][0:2:2])"
      ],
      "execution_count": 0,
      "outputs": [
        {
          "output_type": "stream",
          "text": [
            "(7, ('candy', 8))\n",
            "(7,)\n"
          ],
          "name": "stdout"
        }
      ]
    },
    {
      "cell_type": "code",
      "metadata": {
        "id": "A2sA6u3LGtb6",
        "colab_type": "code",
        "outputId": "32558890-9ebc-4881-b6ff-c7f8a7466280",
        "colab": {
          "base_uri": "https://localhost:8080/",
          "height": 87
        }
      },
      "source": [
        "print(tuple_nest[6][1][:])\n",
        "print(tuple_nest[6][1][0:1])\n",
        "print(tuple_nest[6][1][0:2:1])\n",
        "print(tuple_nest[6][1][0:2:2])"
      ],
      "execution_count": 0,
      "outputs": [
        {
          "output_type": "stream",
          "text": [
            "('candy', 8)\n",
            "('candy',)\n",
            "('candy', 8)\n",
            "('candy',)\n"
          ],
          "name": "stdout"
        }
      ]
    },
    {
      "cell_type": "code",
      "metadata": {
        "id": "lyRcLAlFG_yu",
        "colab_type": "code",
        "colab": {}
      },
      "source": [
        "# 3\n",
        "\n",
        "tuple_Gerne = ('Pop','Rock','Soul','Hard Rock','Soft rock','R&B','Progressive rock','Disco')"
      ],
      "execution_count": 0,
      "outputs": []
    },
    {
      "cell_type": "code",
      "metadata": {
        "id": "RMcHk2LtO_7_",
        "colab_type": "code",
        "outputId": "8418ea8d-1ca9-45a9-d104-12a1cddbcc11",
        "colab": {
          "base_uri": "https://localhost:8080/",
          "height": 158
        }
      },
      "source": [
        "# trick1\n",
        "\n",
        "print(tuple_Gerne[0])\n",
        "print(tuple_Gerne[1])\n",
        "print(tuple_Gerne[2])\n",
        "print(tuple_Gerne[3])\n",
        "print(tuple_Gerne[4])\n",
        "print(tuple_Gerne[5])\n",
        "print(tuple_Gerne[6])\n",
        "print(tuple_Gerne[7])"
      ],
      "execution_count": 0,
      "outputs": [
        {
          "output_type": "stream",
          "text": [
            "Pop\n",
            "Rock\n",
            "Soul\n",
            "Hard Rock\n",
            "Soft rock\n",
            "R&B\n",
            "Progressive rock\n",
            "Disco\n"
          ],
          "name": "stdout"
        }
      ]
    },
    {
      "cell_type": "code",
      "metadata": {
        "id": "jOtaXH2sPI-s",
        "colab_type": "code",
        "outputId": "3e94922b-7cec-488d-ebd5-49548eb1df54",
        "colab": {
          "base_uri": "https://localhost:8080/",
          "height": 34
        }
      },
      "source": [
        "print(tuple_Gerne[5])"
      ],
      "execution_count": 0,
      "outputs": [
        {
          "output_type": "stream",
          "text": [
            "R&B\n"
          ],
          "name": "stdout"
        }
      ]
    },
    {
      "cell_type": "code",
      "metadata": {
        "id": "L_zBTbnzQ313",
        "colab_type": "code",
        "outputId": "c53ef972-945b-404d-9bf4-973749516cf0",
        "colab": {
          "base_uri": "https://localhost:8080/",
          "height": 52
        }
      },
      "source": [
        "# trick2\n",
        "\n",
        "print(tuple_Gerne.count('R&B'))\n",
        "print(tuple_Genre.index('R&B'))"
      ],
      "execution_count": 0,
      "outputs": [
        {
          "output_type": "stream",
          "text": [
            "1\n",
            "5\n"
          ],
          "name": "stdout"
        }
      ]
    },
    {
      "cell_type": "code",
      "metadata": {
        "id": "wy7DhJmNR3wR",
        "colab_type": "code",
        "colab": {}
      },
      "source": [
        ""
      ],
      "execution_count": 0,
      "outputs": []
    }
  ]
}